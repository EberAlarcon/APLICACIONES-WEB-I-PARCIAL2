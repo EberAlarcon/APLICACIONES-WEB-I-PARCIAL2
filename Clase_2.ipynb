{
  "nbformat": 4,
  "nbformat_minor": 0,
  "metadata": {
    "colab": {
      "provenance": [],
      "collapsed_sections": [],
      "authorship_tag": "ABX9TyMHgieyox8/jhE1jn4sH1q8",
      "include_colab_link": true
    },
    "kernelspec": {
      "name": "python3",
      "display_name": "Python 3"
    },
    "language_info": {
      "name": "python"
    }
  },
  "cells": [
    {
      "cell_type": "markdown",
      "metadata": {
        "id": "view-in-github",
        "colab_type": "text"
      },
      "source": [
        "<a href=\"https://colab.research.google.com/github/EberAlarcon/APLICACIONES-WEB-I-PARCIAL2/blob/main/Clase_2.ipynb\" target=\"_parent\"><img src=\"https://colab.research.google.com/assets/colab-badge.svg\" alt=\"Open In Colab\"/></a>"
      ]
    },
    {
      "cell_type": "markdown",
      "source": [
        "CLASE 2"
      ],
      "metadata": {
        "id": "c7QnEMhACvvQ"
      }
    },
    {
      "cell_type": "markdown",
      "source": [
        "Input y Branching"
      ],
      "metadata": {
        "id": "34_bIQwMDoMQ"
      }
    },
    {
      "cell_type": "markdown",
      "source": [
        "Con la funcion `input` podemos solicitar al usuario que introduzca un texto, el cual podemos almacenar en una variable."
      ],
      "metadata": {
        "id": "1zbE4csDDsL4"
      }
    },
    {
      "cell_type": "code",
      "source": [
        "nombre = input()\n",
        "print (\"hola \"+ nombre);"
      ],
      "metadata": {
        "colab": {
          "base_uri": "https://localhost:8080/"
        },
        "id": "yK46mwVAD1d5",
        "outputId": "865844cd-fb9e-40ff-b943-005eb60abebb"
      },
      "execution_count": null,
      "outputs": [
        {
          "output_type": "stream",
          "name": "stdout",
          "text": [
            "Eber\n",
            "hola Eber\n"
          ]
        }
      ]
    },
    {
      "cell_type": "code",
      "source": [
        "edad = input (\"Cual es tu edad \")\n",
        "print (\"Tu edad es \"+ edad)"
      ],
      "metadata": {
        "colab": {
          "base_uri": "https://localhost:8080/"
        },
        "id": "CEzYbrqBEMDN",
        "outputId": "2263be4c-1336-472c-e5a1-4dc45324bc87"
      },
      "execution_count": null,
      "outputs": [
        {
          "output_type": "stream",
          "name": "stdout",
          "text": [
            "Cual es tu edad 20\n",
            "Tu edad es 20\n"
          ]
        }
      ]
    },
    {
      "cell_type": "markdown",
      "source": [
        "`input` va a retornar un `string`, el cual podemos trnasformar a un numero entero usadno la funcion `int`."
      ],
      "metadata": {
        "id": "KeUJgDdAEDHw"
      }
    },
    {
      "cell_type": "code",
      "source": [
        "edad = input (\"Cual es tu edad \")\n",
        "edad_en_int = int (edad) #funcion que convierte lo que esta en parentesis en un entero\n",
        "edad_prox_year = edad_en_int + 1\n",
        "edad_prox_year_string = str (edad_prox_year) #funcion que convierte lo que esta dentro del parentesis en un string\n",
        "print(\"El proximo año tendrá \"+ edad_prox_year_string + \" años\")"
      ],
      "metadata": {
        "colab": {
          "base_uri": "https://localhost:8080/"
        },
        "id": "Jtocl3TEEoUg",
        "outputId": "c236b012-f50c-49f7-9622-f3a34e7d6c44"
      },
      "execution_count": null,
      "outputs": [
        {
          "output_type": "stream",
          "name": "stdout",
          "text": [
            "Cual es tu edad 20\n",
            "El proximo año tendrá 21 años\n"
          ]
        }
      ]
    },
    {
      "cell_type": "code",
      "source": [
        "edad=int(input(\"Cual es tu edad \"))"
      ],
      "metadata": {
        "colab": {
          "base_uri": "https://localhost:8080/"
        },
        "id": "-omWjLZVFnXY",
        "outputId": "1eb47f20-e297-4849-dd60-92c0496fe4ee"
      },
      "execution_count": null,
      "outputs": [
        {
          "name": "stdout",
          "output_type": "stream",
          "text": [
            "Cual es tu edad 20\n"
          ]
        }
      ]
    },
    {
      "cell_type": "code",
      "source": [
        "print(\"El proximo año tendras \" +edad+1 + \"años\")"
      ],
      "metadata": {
        "colab": {
          "base_uri": "https://localhost:8080/",
          "height": 165
        },
        "id": "JBqDEmW7FyTA",
        "outputId": "85dd479f-266c-4f83-bcf4-f4bd41099ab6"
      },
      "execution_count": null,
      "outputs": [
        {
          "output_type": "error",
          "ename": "TypeError",
          "evalue": "ignored",
          "traceback": [
            "\u001b[0;31m---------------------------------------------------------------------------\u001b[0m",
            "\u001b[0;31mTypeError\u001b[0m                                 Traceback (most recent call last)",
            "\u001b[0;32m<ipython-input-18-e89e824e45d2>\u001b[0m in \u001b[0;36m<module>\u001b[0;34m\u001b[0m\n\u001b[0;32m----> 1\u001b[0;31m \u001b[0mprint\u001b[0m\u001b[0;34m(\u001b[0m\u001b[0;34m\"El proximo año tendras \"\u001b[0m \u001b[0;34m+\u001b[0m\u001b[0medad\u001b[0m\u001b[0;34m+\u001b[0m\u001b[0;36m1\u001b[0m \u001b[0;34m+\u001b[0m \u001b[0;34m\"años\"\u001b[0m\u001b[0;34m)\u001b[0m\u001b[0;34m\u001b[0m\u001b[0;34m\u001b[0m\u001b[0m\n\u001b[0m",
            "\u001b[0;31mTypeError\u001b[0m: can only concatenate str (not \"int\") to str"
          ]
        }
      ]
    },
    {
      "cell_type": "markdown",
      "source": [
        "## Branching"
      ],
      "metadata": {
        "id": "dZwr0HO0GbiQ"
      }
    },
    {
      "cell_type": "markdown",
      "source": [
        "La expresion `if` permite ejecutar instrucciones si acaso se cumple o no una condicion. La sintaxis es:"
      ],
      "metadata": {
        "id": "CUnl1FnKGvWw"
      }
    },
    {
      "cell_type": "code",
      "source": [
        "if CONDICION:\n",
        "  # CODIGO EN CASO QUE LA CONDICION SEA CIERTA\n",
        "else:\n",
        "  # CODIGO EN CASO DE QUE LA CONDICION SEA FALSA"
      ],
      "metadata": {
        "id": "sut6Y100Gg4o"
      },
      "execution_count": null,
      "outputs": []
    },
    {
      "cell_type": "markdown",
      "source": [
        "Al usar la expresion `if` es muy importante saber indentar correctamente. Observen el codigo que se ejecuta dentro del `if` y dentro del `else` esta indentado. Esta indentacion se hace con el tabulador (TABs) o con espacios. En este curso indentaremos con TABs. \n",
        "Como ejemplo de branching, podemos tomar una decision en base al numero ingresado por el usuario:"
      ],
      "metadata": {
        "id": "xgEOQko3HQ_g"
      }
    },
    {
      "cell_type": "code",
      "source": [
        "numero = int (input())\n",
        "if numero==0:\n",
        "  print(\"El mumero ingresado es cero\")\n",
        "else:\n",
        "  print(\"El numero ingresado no es cero\")"
      ],
      "metadata": {
        "colab": {
          "base_uri": "https://localhost:8080/"
        },
        "id": "RhmTotbWH4Hf",
        "outputId": "505bd456-8fe6-4a48-d027-beeb362d5e12"
      },
      "execution_count": null,
      "outputs": [
        {
          "output_type": "stream",
          "name": "stdout",
          "text": [
            "20\n",
            "El numero ingresado no es cero\n"
          ]
        }
      ]
    },
    {
      "cell_type": "code",
      "source": [
        "respuesta = input(\"Ingrese un numero entero: \")\n",
        "if((int(respuesta) %2 ) == 1):\n",
        "  print (respuesta + ' es un numero impar!!')\n",
        "else:\n",
        "  print (respuesta + ' es un numero par!!')"
      ],
      "metadata": {
        "colab": {
          "base_uri": "https://localhost:8080/"
        },
        "id": "olq4WhllIVHA",
        "outputId": "ecee9e41-cc84-4482-f4a6-b0264f9390fc"
      },
      "execution_count": null,
      "outputs": [
        {
          "output_type": "stream",
          "name": "stdout",
          "text": [
            "Ingrese un numero entero: 31\n",
            "31 es un numero impar!!\n"
          ]
        }
      ]
    },
    {
      "cell_type": "markdown",
      "source": [
        "Puede existir mas de una condicion dentro de otra, lo que llamamos condiciones `anidadas`"
      ],
      "metadata": {
        "id": "_jUaC69PJBrQ"
      }
    },
    {
      "cell_type": "code",
      "source": [
        "respuesta = input (\"Ingrese un numero entero: \")\n",
        "\n",
        "if respuesta.isdigit(): #.isdigit() funcion que analiza si lo anterior es un numero entero\n",
        " if((int(respuesta) %2 ) == 1):\n",
        "  print (respuesta + ' es un numero impar!!')\n",
        " else:\n",
        "  print (respuesta + ' es un numero par!!') \n",
        "else: \n",
        "  print (respuesta+ ' no es numero valido')\n"
      ],
      "metadata": {
        "colab": {
          "base_uri": "https://localhost:8080/"
        },
        "id": "8IKqfKmiJI7P",
        "outputId": "2b3860a1-0043-4a94-8375-865357923ad7"
      },
      "execution_count": null,
      "outputs": [
        {
          "output_type": "stream",
          "name": "stdout",
          "text": [
            "Ingrese un numero entero: hola\n",
            "hola no es numero valido\n"
          ]
        }
      ]
    },
    {
      "cell_type": "markdown",
      "source": [
        "En el caso que queremos probar por varias condiciones. podemos usar la expresion `elsif` (una combionacion de `else` e `if`)"
      ],
      "metadata": {
        "id": "uY9qqjSsJ-0w"
      }
    },
    {
      "cell_type": "code",
      "source": [
        "nombre = input (\"Por favor ingresa tu nombre: \")\n",
        "\n",
        "if nombre == \"Eber\":\n",
        "  print(\"Adelante Eber\")\n",
        "elif nombre == \"Nicolas\" or nombre == \"Pablo\":\n",
        "  print (\"Estimado \" +nombre+ \" por favor usa tu llave\")\n",
        "elif nombre.startswith(\"Jose\"): #.startswith() prohibido como Jose Manuel\n",
        "  print (\"Esta prohibido tu acceso\")\n",
        "else:\n",
        "  print(\"Estimado \" +nombre+ \" lo atenderemos pronto\")"
      ],
      "metadata": {
        "colab": {
          "base_uri": "https://localhost:8080/"
        },
        "id": "uvjeR44EKJmg",
        "outputId": "eb6289bd-08dd-4127-9d5d-8e2eca3ff5e7"
      },
      "execution_count": null,
      "outputs": [
        {
          "output_type": "stream",
          "name": "stdout",
          "text": [
            "Por favor ingresa tu nombre: Eber\n",
            "Adelante Eber\n"
          ]
        }
      ]
    },
    {
      "cell_type": "markdown",
      "source": [
        "## String"
      ],
      "metadata": {
        "id": "cFnbv5GiLreI"
      }
    },
    {
      "cell_type": "markdown",
      "source": [
        "El largo de un string se puede obtener con la funcion `len`"
      ],
      "metadata": {
        "id": "0W41_uQYLu6_"
      }
    },
    {
      "cell_type": "code",
      "source": [
        "palabra =\"Supercomputadoras\"\n",
        "largo = len(palabra) # len()\n",
        "print (\"La palabra \" +palabra+ \" tiene\" +str(largo)+ \" caracteres\")"
      ],
      "metadata": {
        "colab": {
          "base_uri": "https://localhost:8080/"
        },
        "id": "t4pyjH7XLt7A",
        "outputId": "ad63242f-ace5-4f49-b3bf-013c6e6ebd8a"
      },
      "execution_count": null,
      "outputs": [
        {
          "output_type": "stream",
          "name": "stdout",
          "text": [
            "La palabra Supercomputadoras tiene17 caracteres\n"
          ]
        }
      ]
    },
    {
      "cell_type": "markdown",
      "source": [
        "Pra obetener una letra especifica de una palabra, pdemos usar un \"indice\" sobre el string usando los corchetes cuadrados `[ `y `]`. En python los indices comienzan en `0`."
      ],
      "metadata": {
        "id": "BSy0dqrpMP7A"
      }
    },
    {
      "cell_type": "code",
      "source": [
        "palabra"
      ],
      "metadata": {
        "colab": {
          "base_uri": "https://localhost:8080/",
          "height": 35
        },
        "id": "1mvTs_m2Ml64",
        "outputId": "3afc1902-1fa7-4f80-9907-66a5894224e4"
      },
      "execution_count": null,
      "outputs": [
        {
          "output_type": "execute_result",
          "data": {
            "text/plain": [
              "'Supercomputadoras'"
            ],
            "application/vnd.google.colaboratory.intrinsic+json": {
              "type": "string"
            }
          },
          "metadata": {},
          "execution_count": 41
        }
      ]
    },
    {
      "cell_type": "code",
      "source": [
        "palabra[0]"
      ],
      "metadata": {
        "colab": {
          "base_uri": "https://localhost:8080/",
          "height": 35
        },
        "id": "rdNF8ibGMpav",
        "outputId": "5c0925a4-6523-4638-d060-5eaadad1a99a"
      },
      "execution_count": null,
      "outputs": [
        {
          "output_type": "execute_result",
          "data": {
            "text/plain": [
              "'S'"
            ],
            "application/vnd.google.colaboratory.intrinsic+json": {
              "type": "string"
            }
          },
          "metadata": {},
          "execution_count": 42
        }
      ]
    },
    {
      "cell_type": "code",
      "source": [
        "palabra [10]"
      ],
      "metadata": {
        "colab": {
          "base_uri": "https://localhost:8080/",
          "height": 35
        },
        "id": "vX7p-5C2M23Y",
        "outputId": "a5497928-639a-41cb-e1d4-cb55ba65638a"
      },
      "execution_count": null,
      "outputs": [
        {
          "output_type": "execute_result",
          "data": {
            "text/plain": [
              "'t'"
            ],
            "application/vnd.google.colaboratory.intrinsic+json": {
              "type": "string"
            }
          },
          "metadata": {},
          "execution_count": 43
        }
      ]
    },
    {
      "cell_type": "markdown",
      "source": [
        "Los indices pueden ser negativos, contando desde el final del `string`. Asi `palabra[-1]` es la ultima letra del `string`"
      ],
      "metadata": {
        "id": "gQCwojMUNhhJ"
      }
    },
    {
      "cell_type": "code",
      "source": [
        "palabra[-1]"
      ],
      "metadata": {
        "colab": {
          "base_uri": "https://localhost:8080/",
          "height": 35
        },
        "id": "WYfKhLIjNvdf",
        "outputId": "dc92ceea-0acd-44d5-c00b-483e69505f32"
      },
      "execution_count": null,
      "outputs": [
        {
          "output_type": "execute_result",
          "data": {
            "text/plain": [
              "'s'"
            ],
            "application/vnd.google.colaboratory.intrinsic+json": {
              "type": "string"
            }
          },
          "metadata": {},
          "execution_count": 44
        }
      ]
    },
    {
      "cell_type": "code",
      "source": [
        "nombre = input()\n",
        "print (\"La ultima letra de la palabra \" +nombre+ \" es \" + nombre[-1])"
      ],
      "metadata": {
        "colab": {
          "base_uri": "https://localhost:8080/"
        },
        "id": "4uhD7LttNzmA",
        "outputId": "7b570754-c09d-45d1-95b0-9ddceaaa0de6"
      },
      "execution_count": null,
      "outputs": [
        {
          "output_type": "stream",
          "name": "stdout",
          "text": [
            "Eber\n",
            "La ultima letra de la palabra Eber es r\n"
          ]
        }
      ]
    },
    {
      "cell_type": "markdown",
      "source": [
        "Hay un monton de metdos utiles que existen para manipular string"
      ],
      "metadata": {
        "id": "Wb1FJ-faNydw"
      }
    },
    {
      "cell_type": "code",
      "source": [
        "frase = \"Hola Mundo\"\n"
      ],
      "metadata": {
        "id": "8Z6T0RkXOPUH"
      },
      "execution_count": null,
      "outputs": []
    },
    {
      "cell_type": "code",
      "source": [
        "frase"
      ],
      "metadata": {
        "colab": {
          "base_uri": "https://localhost:8080/",
          "height": 35
        },
        "id": "GdsYDOxvOVM3",
        "outputId": "5d4b918c-dc0f-41f6-f5d6-c49c28c44e4b"
      },
      "execution_count": null,
      "outputs": [
        {
          "output_type": "execute_result",
          "data": {
            "text/plain": [
              "'Hola mundo'"
            ],
            "application/vnd.google.colaboratory.intrinsic+json": {
              "type": "string"
            }
          },
          "metadata": {},
          "execution_count": 49
        }
      ]
    },
    {
      "cell_type": "markdown",
      "source": [
        "Podemos obtener un rango de letras de un string, utilizando lo que en Python llamamos un `slice`. En un `slice` damos el inicio y el fin del rango que nos interesa, tomando en cuenta que las posiciones comienzan de cero. Por ejemplo:"
      ],
      "metadata": {
        "id": "SCIbi6sVOthw"
      }
    },
    {
      "cell_type": "code",
      "source": [
        "frase[1:3]"
      ],
      "metadata": {
        "colab": {
          "base_uri": "https://localhost:8080/",
          "height": 35
        },
        "id": "JVnlA3W9OX7H",
        "outputId": "abefe918-ca2d-46b7-c606-42274b0fe6e5"
      },
      "execution_count": null,
      "outputs": [
        {
          "output_type": "execute_result",
          "data": {
            "text/plain": [
              "'ol'"
            ],
            "application/vnd.google.colaboratory.intrinsic+json": {
              "type": "string"
            }
          },
          "metadata": {},
          "execution_count": 58
        }
      ]
    },
    {
      "cell_type": "code",
      "source": [
        "frase [2:5]"
      ],
      "metadata": {
        "colab": {
          "base_uri": "https://localhost:8080/",
          "height": 35
        },
        "id": "QgFzs2I-PFxK",
        "outputId": "7a4c685f-cc44-4345-b6a7-a8abcbc027c8"
      },
      "execution_count": null,
      "outputs": [
        {
          "output_type": "execute_result",
          "data": {
            "text/plain": [
              "'la '"
            ],
            "application/vnd.google.colaboratory.intrinsic+json": {
              "type": "string"
            }
          },
          "metadata": {},
          "execution_count": 51
        }
      ]
    },
    {
      "cell_type": "code",
      "source": [
        "len(frase)"
      ],
      "metadata": {
        "colab": {
          "base_uri": "https://localhost:8080/"
        },
        "id": "p-vNcbs0POG4",
        "outputId": "4f6b6ee8-6b1e-4408-ed4c-f6a0ec36e79d"
      },
      "execution_count": null,
      "outputs": [
        {
          "output_type": "execute_result",
          "data": {
            "text/plain": [
              "10"
            ]
          },
          "metadata": {},
          "execution_count": 52
        }
      ]
    },
    {
      "cell_type": "markdown",
      "source": [
        "Podemos omitir el principio y/o el final del slice, en cuyo caso se usara el principio y el final del string. Ejemplos:"
      ],
      "metadata": {
        "id": "v6XeaFPSPSug"
      }
    },
    {
      "cell_type": "code",
      "source": [
        "frase[:5]"
      ],
      "metadata": {
        "colab": {
          "base_uri": "https://localhost:8080/",
          "height": 35
        },
        "id": "UxMluVyYPdnw",
        "outputId": "734317f3-c8f8-473b-ae08-1f65b746bcda"
      },
      "execution_count": null,
      "outputs": [
        {
          "output_type": "execute_result",
          "data": {
            "text/plain": [
              "'Hola '"
            ],
            "application/vnd.google.colaboratory.intrinsic+json": {
              "type": "string"
            }
          },
          "metadata": {},
          "execution_count": 53
        }
      ]
    },
    {
      "cell_type": "code",
      "source": [
        "frase[2:]"
      ],
      "metadata": {
        "colab": {
          "base_uri": "https://localhost:8080/",
          "height": 35
        },
        "id": "jDgZ7e55P7yP",
        "outputId": "c28f17ed-ed3c-4ae7-d1fa-3e67cb1f4a85"
      },
      "execution_count": null,
      "outputs": [
        {
          "output_type": "execute_result",
          "data": {
            "text/plain": [
              "'la Mundo'"
            ],
            "application/vnd.google.colaboratory.intrinsic+json": {
              "type": "string"
            }
          },
          "metadata": {},
          "execution_count": 59
        }
      ]
    },
    {
      "cell_type": "markdown",
      "source": [
        "Incluso podemos usar numeros negativos para contar desde el final. Ejemplo:"
      ],
      "metadata": {
        "id": "BHFo_bXCQE9x"
      }
    },
    {
      "cell_type": "code",
      "source": [
        "frase[2:-4]"
      ],
      "metadata": {
        "colab": {
          "base_uri": "https://localhost:8080/",
          "height": 35
        },
        "id": "zaqjLcZhQNYf",
        "outputId": "a60bab32-46ac-4254-916a-79c1ea85fc30"
      },
      "execution_count": null,
      "outputs": [
        {
          "output_type": "execute_result",
          "data": {
            "text/plain": [
              "'la M'"
            ],
            "application/vnd.google.colaboratory.intrinsic+json": {
              "type": "string"
            }
          },
          "metadata": {},
          "execution_count": 60
        }
      ]
    },
    {
      "cell_type": "markdown",
      "source": [
        "Podemos usar `in` para saber si un substring existe dentro de un string, o `count` para contar el numero de veces que un caracter aparece, o `find` para saber en que posicion aparece un substring."
      ],
      "metadata": {
        "id": "I_YeyNGzQWKh"
      }
    },
    {
      "cell_type": "code",
      "source": [
        "'Mun' in frase"
      ],
      "metadata": {
        "colab": {
          "base_uri": "https://localhost:8080/"
        },
        "id": "KMnh6UiZQrT6",
        "outputId": "8ad810fc-c78f-4111-a93b-a05530435a1e"
      },
      "execution_count": null,
      "outputs": [
        {
          "output_type": "execute_result",
          "data": {
            "text/plain": [
              "True"
            ]
          },
          "metadata": {},
          "execution_count": 61
        }
      ]
    },
    {
      "cell_type": "code",
      "source": [
        "frase.count('o') #count() cuenta cierta cantidad \"algo\""
      ],
      "metadata": {
        "colab": {
          "base_uri": "https://localhost:8080/"
        },
        "id": "KbF4d4qoQ8uX",
        "outputId": "9a4b9f5c-9608-4f0b-87f3-c45e38c32973"
      },
      "execution_count": null,
      "outputs": [
        {
          "output_type": "execute_result",
          "data": {
            "text/plain": [
              "2"
            ]
          },
          "metadata": {},
          "execution_count": 62
        }
      ]
    },
    {
      "cell_type": "code",
      "source": [
        "frase.find('o') #¿existe?"
      ],
      "metadata": {
        "colab": {
          "base_uri": "https://localhost:8080/"
        },
        "id": "zidpnVhuRINf",
        "outputId": "361bf988-11fa-459c-f3bc-54f5535e4bf2"
      },
      "execution_count": null,
      "outputs": [
        {
          "output_type": "execute_result",
          "data": {
            "text/plain": [
              "1"
            ]
          },
          "metadata": {},
          "execution_count": 64
        }
      ]
    },
    {
      "cell_type": "markdown",
      "source": [
        "![WhatsApp Image 2022-09-15 at 17.42.26.jpeg](data:image/jpeg;base64,/9j/4AAQSkZJRgABAQEAYABgAAD/4SMARXhpZgAATU0AKgAAAAgABgALAAIAAAAmAAAIYgESAAMAAAABAAEAAAExAAIAAAAmAAAIiAEyAAIAAAAUAAAIrodpAAQAAAABAAAIwuocAAcAAAgMAAAAVgAAEUYc6gAAAAgAAAAAAAAAAAAAAAAAAAAAAAAAAAAAAAAAAAAAAAAAAAAAAAAAAAAAAAAAAAAAAAAAAAAAAAAAAAAAAAAAAAAAAAAAAAAAAAAAAAAAAAAAAAAAAAAAAAAAAAAAAAAAAAAAAAAAAAAAAAAAAAAAAAAAAAAAAAAAAAAAAAAAAAAAAAAAAAAAAAAAAAAAAAAAAAAAAAAAAAAAAAAAAAAAAAAAAAAAAAAAAAAAAAAAAAAAAAAAAAAAAAAAAAAAAAAAAAAAAAAAAAAAAAAAAAAAAAAAAAAAAAAAAAAAAAAAAAAAAAAAAAAAAAAAAAAAAAAAAAAAAAAAAAAAAAAAAAAAAAAAAAAAAAAAAAAAAAAAAAAAAAAAAAAAAAAAAAAAAAAAAAAAAAAAAAAAAAAAAAAAAAAAAAAAAAAAAAAAAAAAAAAAAAAAAAAAAAAAAAAAAAAAAAAAAAAAAAAAAAAAAAAAAAAAAAAAAAAAAAAAAAAAAAAAAAAAAAAAAAAAAAAAAAAAAAAAAAAAAAAAAAAAAAAAAAAAAAAAAAAAAAAAAAAAAAAAAAAAAAAAAAAAAAAAAAAAAAAAAAAAAAAAAAAAAAAAAAAAAAAAAAAAAAAAAAAAAAAAAAAAAAAAAAAAAAAAAAAAAAAAAAAAAAAAAAAAAAAAAAAAAAAAAAAAAAAAAAAAAAAAAAAAAAAAAAAAAAAAAAAAAAAAAAAAAAAAAAAAAAAAAAAAAAAAAAAAAAAAAAAAAAAAAAAAAAAAAAAAAAAAAAAAAAAAAAAAAAAAAAAAAAAAAAAAAAAAAAAAAAAAAAAAAAAAAAAAAAAAAAAAAAAAAAAAAAAAAAAAAAAAAAAAAAAAAAAAAAAAAAAAAAAAAAAAAAAAAAAAAAAAAAAAAAAAAAAAAAAAAAAAAAAAAAAAAAAAAAAAAAAAAAAAAAAAAAAAAAAAAAAAAAAAAAAAAAAAAAAAAAAAAAAAAAAAAAAAAAAAAAAAAAAAAAAAAAAAAAAAAAAAAAAAAAAAAAAAAAAAAAAAAAAAAAAAAAAAAAAAAAAAAAAAAAAAAAAAAAAAAAAAAAAAAAAAAAAAAAAAAAAAAAAAAAAAAAAAAAAAAAAAAAAAAAAAAAAAAAAAAAAAAAAAAAAAAAAAAAAAAAAAAAAAAAAAAAAAAAAAAAAAAAAAAAAAAAAAAAAAAAAAAAAAAAAAAAAAAAAAAAAAAAAAAAAAAAAAAAAAAAAAAAAAAAAAAAAAAAAAAAAAAAAAAAAAAAAAAAAAAAAAAAAAAAAAAAAAAAAAAAAAAAAAAAAAAAAAAAAAAAAAAAAAAAAAAAAAAAAAAAAAAAAAAAAAAAAAAAAAAAAAAAAAAAAAAAAAAAAAAAAAAAAAAAAAAAAAAAAAAAAAAAAAAAAAAAAAAAAAAAAAAAAAAAAAAAAAAAAAAAAAAAAAAAAAAAAAAAAAAAAAAAAAAAAAAAAAAAAAAAAAAAAAAAAAAAAAAAAAAAAAAAAAAAAAAAAAAAAAAAAAAAAAAAAAAAAAAAAAAAAAAAAAAAAAAAAAAAAAAAAAAAAAAAAAAAAAAAAAAAAAAAAAAAAAAAAAAAAAAAAAAAAAAAAAAAAAAAAAAAAAAAAAAAAAAAAAAAAAAAAAAAAAAAAAAAAAAAAAAAAAAAAAAAAAAAAAAAAAAAAAAAAAAAAAAAAAAAAAAAAAAAAAAAAAAAAAAAAAAAAAAAAAAAAAAAAAAAAAAAAAAAAAAAAAAAAAAAAAAAAAAAAAAAAAAAAAAAAAAAAAAAAAAAAAAAAAAAAAAAAAAAAAAAAAAAAAAAAAAAAAAAAAAAAAAAAAAAAAAAAAAAAAAAAAAAAAAAAAAAAAAAAAAAAAAAAAAAAAAAAAAAAAAAAAAAAAAAAAAAAAAAAAAAAAAAAAAAAAAAAAAAAAAAAAAAAAAAAAAAAAAAAAAAAAAAAAAAAAAAAAAAAAAAAAAAAAAAAAAAAAAAAAAAAAAAAAAAAAAAAAAAAAAAAAAAAAAAAAAAAAAAAAAAAAAAAAAAAAAAAAAAAAAAAAAAAAAAAAAAAAAAAAAAAAAAAAAAAAAAAAAAAAAAAAAAAAAAAAAAAAAAAAAAAAAAAAAAAAAAAAAAAAAAAAAAAAAAAAAAAAAAAAAAAAAAAAAAAAAAAAAAAAAAAAAAAAAAAAAAAAAAAAAAAAAAAAAAAAAAAAAAAAAAAAAAAAAAAAAAAAAAAAAAAAAAAAAAAAAAAAAAAAAAAAAAAAAAAAAAAAAAAAAAAAAAAAAAAAAAAAAAAAAAAAAAAAAAAAAAAAAAAAAAAAAAAAAAAAAAAAAAAAAAAAAAAAAAAAAAAAAAAAAAAAAAAAAAAAAAAAAAAAAAAAAAAAAAAAAAAAAAAAAAAAAAAAAAAAAAAAAAAAAAAAAAAAAAAAAAAAAAAAAAAAAAAAAAAAAAAAAAAAAAAAAAAAAAAAAAAAAAAAAAAAAAAAAAAAAAAAAAAAAAAAAAAAAAAAAAAAAAAAAAAAAAAAAAAAAAAAAAAAAAAAAAAAAAAAAAAAAAAAAAAAAAAAAAAAAAAAAAAAAAAAAAAAAAAAAAAAAAAAAAAAAAAAAAAAAAAAAAAAAAAAAAAAAAAAAAAAAAAAAAAAAAAAAAAAAAAAAAAAAAAAAAAAAAAAAAAAAAAAAAAAAAAAAAAAAAAAAAAAAAAAAAAAAAAAAAAAAAAAAAAAAAAAAAAAAAAAAAAAAAAAAAAAAAAAAAAAAAAAAAAAAAAAAAAAAFdpbmRvd3MgUGhvdG8gRWRpdG9yIDEwLjAuMTAwMTEuMTYzODQAV2luZG93cyBQaG90byBFZGl0b3IgMTAuMC4xMDAxMS4xNjM4NAAyMDIyOjA5OjE1IDE3OjQzOjMwAAAGkAMAAgAAABQAABEckAQAAgAAABQAABEwkpEAAgAAAAMzOQAAkpIAAgAAAAMzOQAAoAEAAwAAAAEAAQAA6hwABwAACAwAAAkQAAAAABzqAAAACAAAAAAAAAAAAAAAAAAAAAAAAAAAAAAAAAAAAAAAAAAAAAAAAAAAAAAAAAAAAAAAAAAAAAAAAAAAAAAAAAAAAAAAAAAAAAAAAAAAAAAAAAAAAAAAAAAAAAAAAAAAAAAAAAAAAAAAAAAAAAAAAAAAAAAAAAAAAAAAAAAAAAAAAAAAAAAAAAAAAAAAAAAAAAAAAAAAAAAAAAAAAAAAAAAAAAAAAAAAAAAAAAAAAAAAAAAAAAAAAAAAAAAAAAAAAAAAAAAAAAAAAAAAAAAAAAAAAAAAAAAAAAAAAAAAAAAAAAAAAAAAAAAAAAAAAAAAAAAAAAAAAAAAAAAAAAAAAAAAAAAAAAAAAAAAAAAAAAAAAAAAAAAAAAAAAAAAAAAAAAAAAAAAAAAAAAAAAAAAAAAAAAAAAAAAAAAAAAAAAAAAAAAAAAAAAAAAAAAAAAAAAAAAAAAAAAAAAAAAAAAAAAAAAAAAAAAAAAAAAAAAAAAAAAAAAAAAAAAAAAAAAAAAAAAAAAAAAAAAAAAAAAAAAAAAAAAAAAAAAAAAAAAAAAAAAAAAAAAAAAAAAAAAAAAAAAAAAAAAAAAAAAAAAAAAAAAAAAAAAAAAAAAAAAAAAAAAAAAAAAAAAAAAAAAAAAAAAAAAAAAAAAAAAAAAAAAAAAAAAAAAAAAAAAAAAAAAAAAAAAAAAAAAAAAAAAAAAAAAAAAAAAAAAAAAAAAAAAAAAAAAAAAAAAAAAAAAAAAAAAAAAAAAAAAAAAAAAAAAAAAAAAAAAAAAAAAAAAAAAAAAAAAAAAAAAAAAAAAAAAAAAAAAAAAAAAAAAAAAAAAAAAAAAAAAAAAAAAAAAAAAAAAAAAAAAAAAAAAAAAAAAAAAAAAAAAAAAAAAAAAAAAAAAAAAAAAAAAAAAAAAAAAAAAAAAAAAAAAAAAAAAAAAAAAAAAAAAAAAAAAAAAAAAAAAAAAAAAAAAAAAAAAAAAAAAAAAAAAAAAAAAAAAAAAAAAAAAAAAAAAAAAAAAAAAAAAAAAAAAAAAAAAAAAAAAAAAAAAAAAAAAAAAAAAAAAAAAAAAAAAAAAAAAAAAAAAAAAAAAAAAAAAAAAAAAAAAAAAAAAAAAAAAAAAAAAAAAAAAAAAAAAAAAAAAAAAAAAAAAAAAAAAAAAAAAAAAAAAAAAAAAAAAAAAAAAAAAAAAAAAAAAAAAAAAAAAAAAAAAAAAAAAAAAAAAAAAAAAAAAAAAAAAAAAAAAAAAAAAAAAAAAAAAAAAAAAAAAAAAAAAAAAAAAAAAAAAAAAAAAAAAAAAAAAAAAAAAAAAAAAAAAAAAAAAAAAAAAAAAAAAAAAAAAAAAAAAAAAAAAAAAAAAAAAAAAAAAAAAAAAAAAAAAAAAAAAAAAAAAAAAAAAAAAAAAAAAAAAAAAAAAAAAAAAAAAAAAAAAAAAAAAAAAAAAAAAAAAAAAAAAAAAAAAAAAAAAAAAAAAAAAAAAAAAAAAAAAAAAAAAAAAAAAAAAAAAAAAAAAAAAAAAAAAAAAAAAAAAAAAAAAAAAAAAAAAAAAAAAAAAAAAAAAAAAAAAAAAAAAAAAAAAAAAAAAAAAAAAAAAAAAAAAAAAAAAAAAAAAAAAAAAAAAAAAAAAAAAAAAAAAAAAAAAAAAAAAAAAAAAAAAAAAAAAAAAAAAAAAAAAAAAAAAAAAAAAAAAAAAAAAAAAAAAAAAAAAAAAAAAAAAAAAAAAAAAAAAAAAAAAAAAAAAAAAAAAAAAAAAAAAAAAAAAAAAAAAAAAAAAAAAAAAAAAAAAAAAAAAAAAAAAAAAAAAAAAAAAAAAAAAAAAAAAAAAAAAAAAAAAAAAAAAAAAAAAAAAAAAAAAAAAAAAAAAAAAAAAAAAAAAAAAAAAAAAAAAAAAAAAAAAAAAAAAAAAAAAAAAAAAAAAAAAAAAAAAAAAAAAAAAAAAAAAAAAAAAAAAAAAAAAAAAAAAAAAAAAAAAAAAAAAAAAAAAAAAAAAAAAAAAAAAAAAAAAAAAAAAAAAAAAAAAAAAAAAAAAAAAAAAAAAAAAAAAAAAAAAAAAAAAAAAAAAAAAAAAAAAAAAAAAAAAAAAAAAAAAAAAAAAAAAAAAAAAAAAAAAAAAAAAAAAAAAAAAAAAAAAAAAAAAAAAAAAAAAAAAAAAAAAAAAAAAAAAAAAAAAAAAAAAAAAAAAAAAAAAAAAAAAAAAAAAAAAAAAAAAAAAAAAAAAAAAAAAAAAAAAAAAAAAAAAAAAAAAAAAAAAAAAAAAAAAAAAAAAAAAAAAAAAAAAAAAAAAAAAAAAAAAAAAAAAAAAAAAAAAAAAAAAAAAAAAAAAAAAAAAAAAAAAAAAAAAAAAAAAAAAAAAAAAAAAAAAAAAAAAAAAAAAAAAAAAAAAAAAAAAAAAAAAAAAAAAAAAAAAAAAAAAAAAAAAAAAAAAAAAAAAAAAAAAAAAAAAAAAAAAAAAAAAAAAAAAAAAAAAAAAAAAAAAAAAAAAAAAAAAAAAAAAAAAAAAAAAAAAAAAAAAAAAAAAAAAAAAAAAAAAAAAAAAAAAAAAAAAAAAAAAAAAAAAAAAAAAAAAAAAAAAAAAAAAAAAAAAAAAAAAAAAAAAAAAAAAAAAAAAAAAAAAAAAAAAAAAAAAAAAAAAAAAAAAAAAAAAAAAAAAAAAAAAAAAAAAAAAAAAAAAAAAAAAAAAAAAAAAAAAAAAAAAAAAAAAAAAAAAAAAAAAAAAAAAAAAAAAAAAAAAAAAAAAAAAAAAAAAAAAAAAMjAyMjowOToxNSAxNzo0Mjo1NQAyMDIyOjA5OjE1IDE3OjQyOjU1AAAAAAYBAwADAAAAAQAGAAABGgAFAAAAAQAAEZQBGwAFAAAAAQAAEZwBKAADAAAAAQACAAACAQAEAAAAAQAAEaQCAgAEAAAAAQAAEVQAAAAAAAAAYAAAAAEAAABgAAAAAf/Y/9sAQwAIBgYHBgUIBwcHCQkICgwUDQwLCwwZEhMPFB0aHx4dGhwcICQuJyAiLCMcHCg3KSwwMTQ0NB8nOT04MjwuMzQy/9sAQwEJCQkMCwwYDQ0YMiEcITIyMjIyMjIyMjIyMjIyMjIyMjIyMjIyMjIyMjIyMjIyMjIyMjIyMjIyMjIyMjIyMjIy/8AAEQgAYQEAAwEhAAIRAQMRAf/EAB8AAAEFAQEBAQEBAAAAAAAAAAABAgMEBQYHCAkKC//EALUQAAIBAwMCBAMFBQQEAAABfQECAwAEEQUSITFBBhNRYQcicRQygZGhCCNCscEVUtHwJDNicoIJChYXGBkaJSYnKCkqNDU2Nzg5OkNERUZHSElKU1RVVldYWVpjZGVmZ2hpanN0dXZ3eHl6g4SFhoeIiYqSk5SVlpeYmZqio6Slpqeoqaqys7S1tre4ubrCw8TFxsfIycrS09TV1tfY2drh4uPk5ebn6Onq8fLz9PX29/j5+v/EAB8BAAMBAQEBAQEBAQEAAAAAAAABAgMEBQYHCAkKC//EALURAAIBAgQEAwQHBQQEAAECdwABAgMRBAUhMQYSQVEHYXETIjKBCBRCkaGxwQkjM1LwFWJy0QoWJDThJfEXGBkaJicoKSo1Njc4OTpDREVGR0hJSlNUVVZXWFlaY2RlZmdoaWpzdHV2d3h5eoKDhIWGh4iJipKTlJWWl5iZmqKjpKWmp6ipqrKztLW2t7i5usLDxMXGx8jJytLT1NXW19jZ2uLj5OXm5+jp6vLz9PX29/j5+v/aAAwDAQACEQMRAD8A4W3TTzHG1xIwO0hlTO7OeD0x0qeNNG+0TB5J/L+XyyO/Bz29cUAPa30aOdw9xIVCDAjO75u/OOnp7ihf7DeJd3nxsDyNxOR9cf559qAIY10j5/Mef77bSD/D27df6+nWpgmgNJzJdIoB988/T0oAbjRDDgtOGOT15B7Dpj/PalWHRMyM00wj8wBMH5sYGeMdM5/+vQAxf7F3hWFxt28vu77fTHrxTphoZjLRGcOwOFB4U4+n0/WgBiLo7KA7TowhyWzkGT0xjgVO8WhNFIySzL85CbjzjHBPHPPWmHQgmXSBbzNFJKZgQsa9ARtGSeP71CjR1Zt5nYbBtAbHzc+3+7+ZpAShdDUkh524XG7689uv+eacw0KWUsXmjUjOFzwfTGP69aAK8S6SXdpXmCeYwVAedv8ACc4rNiW32OZ5ZxIdwUJ0Xpg/dOe/6dKAZLBBZTSRI91cRBpCpYj7q54J4x+X/wBao2jWN3RZN6q5AYnORng5xQAlFABRQAUUAFFABRQAUmB6CgCW3iWa4SNpBGrHBY9q0hosZRG/tWxBcjClzkZx14xxn17GgBJtGihtpJRqtlIyDIRGOW69OOvFZVABRQAUUAaw0WFyxTVrLaDgF2IJ9eMUDRI2CkatYfMM4LkEcZ9PwoAnbQLYP8utWRXeQSWwdvHP15P5VhUAFFABRQAUUAFFABRQAUUAFFABRQAUUAFFAFvTraK6uhFKwRTgbmJAFajaHAsbP9ptTgZ2iY5NADhoEBxm5tcE4B804zSDRLVVDPcQlScZjctt9z7UAKdDs1Qv9rgOMHCuckd/x9qji0i0mQ4lWNwcYkbA/n/T1oAlHh+3aMbbq2MhOAolPpVe40q2gXIdZCDglGJU8Z4PegCYaFBwTc2oBx/y1Pek/sKHyzILi2Kj/pq2emaAFTQ7d03farYZUEAynOTjg/n+lNXRIG3AXFuCpxzKcHp0/P8ASgB0ei2UsSyC6iXIyyOxBHOKb/Ytu05iWeHhdxcyELjIHX1oAF0W2bK/aIA2evmHb0B69e+OnY1INAtzFkXVsZM/dEjdOP8AP4UAU5tPghmaPKSY/iRyQfpUf2OD+4f++jQAfY4P7h/76NH2OD+4f++jQAfY4P7h/wC+jR9jg/uH/vo0AH2OD+4f++jR9jg/uH/vo0AH2OD+4f8Avo0fY4P7h/76NAFO5RY5tqDAx61DQAUUAFFAE1rg3CK0piRmAZx2FXWt1ELONViJAyE5yfagB/2MYBOrQD/gRPeq90pgRDHdmXcSMg8HGOR/ntQBV8+X/no350efL/z0b86ADz5f+ejfnR58v/PRvzoA0BbpwW1SLacdCc8037Ovl+YNTjAxwCTu6Z6fpQA5LeNo9x1RFJUEA5yCcZB/M/lTUgViw/tONSDjJJweB/ifyoAWK3WRVZtUijJxkMTxmlFtGQP+JtEDnByDxQA0wKN3/E0iOMYxnnNCwoyg/wBpICexyKAHfZkDf8hSIjvgnpig2oDkDVISAMlgT+VADFhUyMh1JBhtobnB4zn+lPa1Vcj+1ISR6E80AI1uogZxqkRZQTsyfm4zx/KqHny/89G/OgA8+X/no350efL/AM9G/OgA8+X/AJ6N+dHny/8APRvzoAYzM5yxJPqaSgAooAKKALNikUlyqzttjJG5gM4FaDWWniFnW/DMFyE8gjJ9OtADjY6buONQAXPA8gn+tQXVvbRbfJkEgJPOAMjjBx278e1AFbYv90UbF/uigA2L/dFGxf7ooAvix07gm/GOOBCc9ee9J9isPLLi+APZTDz0z6+vFACpZac0YZr7axUHHk9Dxnv9aallYMWDXoXB4Pkk5HHvx3/KgBYrHT3RTJfiMnGR5BOP1pwsdNOM6hjnB/cZ/rQAz7Fp43f6eDjG39x1/XinRWGnyDJ1BUOOQ0P8ueaAAWOnkjN8oyASPKJx6jOab9isSVxeryCW/dfd4z6888UAKtnp/mlWviFAB3eR156dfShbKwKAm+AOM48nv6daAFax08QswvlLqDhfKPzcZ/D0qhsX+6KADYv90UbF/uigA2L/AHRRsX+6KAIJQBJgelR0AFFABRQBJb+V9oj84sItw3leuKuGLTfJZheT+Ztyq+Xxn0zQA7y9LJIW4mzngEcHnue3FUZdomkETM0YYhCeCR2oAZk+poyfU0AGT6mjJ9TQBfEWmjBN5Meny7Md+aTytO8ot9rlDY4QJnt68d6AAx6edhW6kGSNwKdBjnn60qx6YfvXc49xHmgBrRWAA2XcpO7oUxxj/GnmLTArYvJicAj93j6igBTFpW44vbjGOMxd+ff6VGY9P8uLF1LvI/eDZwPlz/Pj9aAJJIdLEf7u9lL57x4BGR/9l+VOEOkd72fp18vrz/hzQBF5Wnk/8fkuNvOY+9JHHp5kYSXUyruwrBM5XHXH1oAcYdNAx9tlJx2j6mhodNETFbyUuB8o8vgnH6c8UAJ5emmVh9qnCBRtby+Sec8Z47UjR6eGGLmYr3+Xnr/hk0AOSLTSnzXkqtgZ/d55x/jSiHTMHdey5zxiPtx/9f8ASgDPbG9tpJGeCe4pKACigAooAZ5f+0350eX/ALTfnQAeX/tN+dHl/wC0350AHl/7TfnR5f8AtN+dAB5f+0350eX/ALTfnQAeX/tN+dHl/wC0350AHl/7TfnR5f8AtN+dAB5f+0350eX/ALTfnQAeX/tN+dHl/wC0350AHl/7TfnR5f8AtN+dAB5f+0350eX/ALTfnQAeX/tN+dHl/wC0350AHl/7TfnR5f8AtN+dAB5f+0350eX/ALTfnQAeX/tN+dHl/wC0350AHl/7TfnR5f8AtN+dAB5f+0350eX/ALTfnQBoW5sNkZuA5IUhwo5znrn6VPG2j/aJvMSbyzjy8duDnv645oAcy6PFO4fzHXYABGeA3fnPT/ChZtFMS77aUMDztY9Pz/zzQx6EUbaUN3mJMRvOCOPlzx39M/j61MH0MyZaO4VQDwDnPPHf0oEIJNG8rBhlBOScZyD6A56UL/YuZHYTFC4CqM7gMDPfpnPv9KAGLLpHmANby+Xj7247s7frj736U+aXRmjJjglWQj1OFOPr9P1oAQSaP5KloZfN8vnBO3fge/Tr3709pND/AHjCKbOCVHOCfz6UARodKa0RJA6zFMBhnCtnq3r+Hb3pIZNJEAEkMpk24Jyeu3qOfXP6UAO36L08qccp83P/AALjPT0qOc6UzgQCZVBblucjIx3643D8qAILk6c93JsS5W3KkJ5bfMDuGDz/ALOfxqvKtkIpPIN4ZCny+YwIDbh6Y4xnr60tQNOKXSVaYTxO+X4KZHHHT05z29KeZtECpi3kLLnPUA8nHf0xTAhuG0ownyUlEny8846896cG0fAzHLndz1xjj3+v50AKsmjASKYZT0KNk575zz9P098vSbRBIC1vLtDMMEk/Lg479elADI20XaN6T5yMgemDnv64/KolfTPsBVo5ftGw4I/ve/NADLs6d9hK2yTfaChO49m3dOvTH6iqTraCPCLfMw6EyAZ4Ht2O79KAJVgsXS4PnXaOqu0YZuGOfkHT06+vtUXfg596ACigCW3jSW4SOSQRqxwXPatEaTaEJ/xN7UFyOD/D06/TP6GgBJtKtIreSRNVt5HUZCr/ABdf8B+Y98ZVABRQAVqx6VZyoG/te2T5FJDgg7iuSPwPGaAHf2PaHbjWLQZIGD26Z/L+lSHRbA5K63bcHjPGRn69f096AMeZVSaREfeisQrf3h60ygAooAKKACigAooAKKACigAooAKKACigAooAcMbWOMkCniMMW2yQYBwM7hn9KAGxoZFHMCtvK8senHP05P5VJHAJFB862jyu4hy2QfTgGgBBGvmlcKwAPIz/AHiP5AH8ak8mP+7+tAB5Mf8Ad/WriabaMiMbyJSwBKkH5eKAD+zbUFs3cWAoIxnnOePwx+tPGlWZXP22LOf896AGNptoIywu4iy7uOecE4x9Rin/ANlWnH+nQ8k+vb/GgBBplmQP9NjH1B9Ae34j8KaumWrMwN5EoBIyc89Of1/SgBYtNs3jBe8jRmOAD25PX/Peg6ZaDH+mxYJwOD6jr+f6UAK2mWe47byMgH3qpNbQxTMiMsig8OvQ0AM8mP8Au/rR5Mf939aADyY/7v60eTH/AHf1oAPJj/u/rR5Mf939aAGSRIEJC8ioKACigAooAKKAELMoJXOakHzFsXSqAcDcjZNADYy7qN06I28ryrYxxg/qfyp+CYVf7Uiuy7thVjj2JHegBrsyy7RJvXB5H+8R/IA/jRvb+8fzoAN7f3j+dXkt7RkjLajtZgCy+WflOBn9aAA29qGbOoAgKpGEPJOcj8MD86eLWyK86mQSRj930/WgBjW9qImK6hl13fLsPzYJx+YxT/slnxnVQCc/8sz2/HvQAn2azI/5CJB9DGfQe/rkfhTUt7UuwbUgqhiAdhORxz+p/KgBYbezeNfM1DY7E/wHC4J6/Ufzpz21iF+XUiWyf4D04/WgCvcxxRIphvPOJJBG3GPeq29v7x/OgA3t/eP50b2/vH86ADe394/nRvb+8fzoAN7f3j+dG9v7x/OgBCzEck0lABRQAUUAFFADlyFYqMkDpjNSgBskS7RngNbtn9DQAkOXC+a+z5yDiBj8vHP15P5UrqyW0Uu8MzgkosJyvB68+uPzoAcB+9K4BXBwduP4iB+YAP40/YvoPyoANi+g/KryWmnGOMtdsGYDcvlfdOBnv6/yoAT7JYBm/wBL3AKpGI+pOcj8OPzqQWWmbeb4g5/55dKAI2tdPEbFbvLjdgeXw2CcfTIxT/sWm4/4/wD1/wCWVAB9k0z/AJ/GH/bLPYe/rmmpaaeXYNeYUMQCIs5HGP6/lQA6Gy054dz3exxkkbO3b8en5017TTgV23hIJ5/ddOD/AF4oAcLPTN2DenvyIuPami008jP2srxkAxd8dOtAFHav90flRtX+6PyoANq/3R+VG1f7o/KgA2r/AHR+VG1f7o/KgBkijy2wB+VVqACigAooAKKAJl60+gAoPWgApKACloATvS9qAEpaAE7UUAL2ooASloASigAooAKKAA9KZQAUUAFFABRQB//Z/+Ex6Gh0dHA6Ly9ucy5hZG9iZS5jb20veGFwLzEuMC8APD94cGFja2V0IGJlZ2luPSfvu78nIGlkPSdXNU0wTXBDZWhpSHpyZVN6TlRjemtjOWQnPz4NCjx4OnhtcG1ldGEgeG1sbnM6eD0iYWRvYmU6bnM6bWV0YS8iPjxyZGY6UkRGIHhtbG5zOnJkZj0iaHR0cDovL3d3dy53My5vcmcvMTk5OS8wMi8yMi1yZGYtc3ludGF4LW5zIyI+PHJkZjpEZXNjcmlwdGlvbiByZGY6YWJvdXQ9InV1aWQ6ZmFmNWJkZDUtYmEzZC0xMWRhLWFkMzEtZDMzZDc1MTgyZjFiIiB4bWxuczp4bXA9Imh0dHA6Ly9ucy5hZG9iZS5jb20veGFwLzEuMC8iPjx4bXA6Q3JlYXRvclRvb2w+V2luZG93cyBQaG90byBFZGl0b3IgMTAuMC4xMDAxMS4xNjM4NDwveG1wOkNyZWF0b3JUb29sPjx4bXA6Q3JlYXRlRGF0ZT4yMDIyLTA5LTE1VDE3OjQyOjU1LjM5MzwveG1wOkNyZWF0ZURhdGU+PC9yZGY6RGVzY3JpcHRpb24+PC9yZGY6UkRGPjwveDp4bXBtZXRhPg0KICAgICAgICAgICAgICAgICAgICAgICAgICAgICAgICAgICAgICAgICAgICAgICAgICAgICAgICAgICAgICAgICAgICAgICAgICAgICAgICAgICAgICAgICAgICAgICAgICAgIAogICAgICAgICAgICAgICAgICAgICAgICAgICAgICAgICAgICAgICAgICAgICAgICAgICAgICAgICAgICAgICAgICAgICAgICAgICAgICAgICAgICAgICAgICAgICAgICAgICAgCiAgICAgICAgICAgICAgICAgICAgICAgICAgICAgICAgICAgICAgICAgICAgICAgICAgICAgICAgICAgICAgICAgICAgICAgICAgICAgICAgICAgICAgICAgICAgICAgICAgICAKICAgICAgICAgICAgICAgICAgICAgICAgICAgICAgICAgICAgICAgICAgICAgICAgICAgICAgICAgICAgICAgICAgICAgICAgICAgICAgICAgICAgICAgICAgICAgICAgICAgIAogICAgICAgICAgICAgICAgICAgICAgICAgICAgICAgICAgICAgICAgICAgICAgICAgICAgICAgICAgICAgICAgICAgICAgICAgICAgICAgICAgICAgICAgICAgICAgICAgICAgCiAgICAgICAgICAgICAgICAgICAgICAgICAgICAgICAgICAgICAgICAgICAgICAgICAgICAgICAgICAgICAgICAgICAgICAgICAgICAgICAgICAgICAgICAgICAgICAgICAgICAKICAgICAgICAgICAgICAgICAgICAgICAgICAgICAgICAgICAgICAgICAgICAgICAgICAgICAgICAgICAgICAgICAgICAgICAgICAgICAgICAgICAgICAgICAgICAgICAgICAgIAogICAgICAgICAgICAgICAgICAgICAgICAgICAgICAgICAgICAgICAgICAgICAgICAgICAgICAgICAgICAgICAgICAgICAgICAgICAgICAgICAgICAgICAgICAgICAgICAgICAgCiAgICAgICAgICAgICAgICAgICAgICAgICAgICAgICAgICAgICAgICAgICAgICAgICAgICAgICAgICAgICAgICAgICAgICAgICAgICAgICAgICAgICAgICAgICAgICAgICAgICAKICAgICAgICAgICAgICAgICAgICAgICAgICAgICAgICAgICAgICAgICAgICAgICAgICAgICAgICAgICAgICAgICAgICAgICAgICAgICAgICAgICAgICAgICAgICAgICAgICAgIAogICAgICAgICAgICAgICAgICAgICAgICAgICAgICAgICAgICAgICAgICAgICAgICAgICAgICAgICAgICAgICAgICAgICAgICAgICAgICAgICAgICAgICAgICAgICAgICAgICAgCiAgICAgICAgICAgICAgICAgICAgICAgICAgICAgICAgICAgICAgICAgICAgICAgICAgICAgICAgICAgICAgICAgICAgICAgICAgICAgICAgICAgICAgICAgICAgICAgICAgICAKICAgICAgICAgICAgICAgICAgICAgICAgICAgICAgICAgICAgICAgICAgICAgICAgICAgICAgICAgICAgICAgICAgICAgICAgICAgICAgICAgICAgICAgICAgICAgICAgICAgIAogICAgICAgICAgICAgICAgICAgICAgICAgICAgICAgICAgICAgICAgICAgICAgICAgICAgICAgICAgICAgICAgICAgICAgICAgICAgICAgICAgICAgICAgICAgICAgICAgICAgCiAgICAgICAgICAgICAgICAgICAgICAgICAgICAgICAgICAgICAgICAgICAgICAgICAgICAgICAgICAgICAgICAgICAgICAgICAgICAgICAgICAgICAgICAgICAgICAgICAgICAKICAgICAgICAgICAgICAgICAgICAgICAgICAgICAgICAgICAgICAgICAgICAgICAgICAgICAgICAgICAgICAgICAgICAgICAgICAgICAgICAgICAgICAgICAgICAgICAgICAgIAogICAgICAgICAgICAgICAgICAgICAgICAgICAgICAgICAgICAgICAgICAgICAgICAgICAgICAgICAgICAgICAgICAgICAgICAgICAgICAgICAgICAgICAgICAgICAgICAgICAgCiAgICAgICAgICAgICAgICAgICAgICAgICAgICAgICAgICAgICAgICAgICAgICAgICAgICAgICAgICAgICAgICAgICAgICAgICAgICAgICAgICAgICAgICAgICAgICAgICAgICAKICAgICAgICAgICAgICAgICAgICAgICAgICAgICAgICAgICAgICAgICAgICAgICAgICAgICAgICAgICAgICAgICAgICAgICAgICAgICAgICAgICAgICAgICAgICAgICAgICAgIAogICAgICAgICAgICAgICAgICAgICAgICAgICAgICAgICAgICAgICAgICAgICAgICAgICAgICAgICAgICAgICAgICAgICAgICAgICAgICAgICAgICAgICAgICAgICAgICAgICAgCiAgICAgICAgICAgICAgICAgICAgICAgICAgICAgICAgICAgICAgICAgICAgICAgICAgICAgICAgICAgICAgICAgICAgICAgICAgICAgICAgICAgICAgICAgICAgICAgICAgICAKICAgICAgICAgICAgICAgICAgICAgICAgICAgICAgICAgICAgICAgICAgICAgICAgICAgICAgICAgICAgICAgICAgICAgICAgICAgICAgICAgICAgICAgICAgICAgICAgICAgIAogICAgICAgICAgICAgICAgICAgICAgICAgICAgICAgICAgICAgICAgICAgICAgICAgICAgICAgICAgICAgICAgICAgICAgICAgICAgICAgICAgICAgICAgICAgICAgICAgICAgCiAgICAgICAgICAgICAgICAgICAgICAgICAgICAgICAgICAgICAgICAgICAgICAgICAgICAgICAgICAgICAgICAgICAgICAgICAgICAgICAgICAgICAgICAgICAgICAgICAgICAKICAgICAgICAgICAgICAgICAgICAgICAgICAgICAgICAgICAgICAgICAgICAgICAgICAgICAgICAgICAgICAgICAgICAgICAgICAgICAgICAgICAgICAgICAgICAgICAgICAgIAogICAgICAgICAgICAgICAgICAgICAgICAgICAgICAgICAgICAgICAgICAgICAgICAgICAgICAgICAgICAgICAgICAgICAgICAgICAgICAgICAgICAgICAgICAgICAgICAgICAgCiAgICAgICAgICAgICAgICAgICAgICAgICAgICAgICAgICAgICAgICAgICAgICAgICAgICAgICAgICAgICAgICAgICAgICAgICAgICAgICAgICAgICAgICAgICAgICAgICAgICAKICAgICAgICAgICAgICAgICAgICAgICAgICAgICAgICAgICAgICAgICAgICAgICAgICAgICAgICAgICAgICAgICAgICAgICAgICAgICAgICAgICAgICAgICAgICAgICAgICAgIAogICAgICAgICAgICAgICAgICAgICAgICAgICAgICAgICAgICAgICAgICAgICAgICAgICAgICAgICAgICAgICAgICAgICAgICAgICAgICAgICAgICAgICAgICAgICAgICAgICAgCiAgICAgICAgICAgICAgICAgICAgICAgICAgICAgICAgICAgICAgICAgICAgICAgICAgICAgICAgICAgICAgICAgICAgICAgICAgICAgICAgICAgICAgICAgICAgICAgICAgICAKICAgICAgICAgICAgICAgICAgICAgICAgICAgICAgICAgICAgICAgICAgICAgICAgICAgICAgICAgICAgICAgICAgICAgICAgICAgICAgICAgICAgICAgICAgICAgICAgICAgIAogICAgICAgICAgICAgICAgICAgICAgICAgICAgICAgICAgICAgICAgICAgICAgICAgICAgICAgICAgICAgICAgICAgICAgICAgICAgICAgICAgICAgICAgICAgICAgICAgICAgCiAgICAgICAgICAgICAgICAgICAgICAgICAgICAgICAgICAgICAgICAgICAgICAgICAgICAgICAgICAgICAgICAgICAgICAgICAgICAgICAgICAgICAgICAgICAgICAgICAgICAKICAgICAgICAgICAgICAgICAgICAgICAgICAgICAgICAgICAgICAgICAgICAgICAgICAgICAgICAgICAgICAgICAgICAgICAgICAgICAgICAgICAgICAgICAgICAgICAgICAgIAogICAgICAgICAgICAgICAgICAgICAgICAgICAgICAgICAgICAgICAgICAgICAgICAgICAgICAgICAgICAgICAgICAgICAgICAgICAgICAgICAgICAgICAgICAgICAgICAgICAgCiAgICAgICAgICAgICAgICAgICAgICAgICAgICAgICAgICAgICAgICAgICAgICAgICAgICAgICAgICAgICAgICAgICAgICAgICAgICAgICAgICAgICAgICAgICAgICAgICAgICAKICAgICAgICAgICAgICAgICAgICAgICAgICAgICAgICAgICAgICAgICAgICAgICAgICAgICAgICAgICAgICAgICAgICAgICAgICAgICAgICAgICAgICAgICAgICAgICAgICAgIAogICAgICAgICAgICAgICAgICAgICAgICAgICAgICAgICAgICAgICAgICAgICAgICAgICAgICAgICAgICAgICAgICAgICAgICAgICAgICAgICAgICAgICAgICAgICAgICAgICAgCiAgICAgICAgICAgICAgICAgICAgICAgICAgICAgICAgICAgICAgICAgICAgICAgICAgICAgICAgICAgICAgICAgICAgICAgICAgICAgICAgICAgICAgICAgICAgICAgICAgICAKICAgICAgICAgICAgICAgICAgICAgICAgICAgICAgICAgICAgICAgICAgICAgICAgICAgICAgICAgICAgICAgICAgICAgICAgICAgICAgICAgICAgICAgICAgICAgICAgICAgIAogICAgICAgICAgICAgICAgICAgICAgICAgICAgICAgICAgICAgICAgICAgICAgICAgICAgICAgICAgICAgICAgICAgICAgICAgICAgICAgICAgICAgICAgICAgICAgICAgICAgCiAgICAgICAgICAgICAgICAgICAgICAgICAgICAgICAgICAgICAgICAgICAgICAgICAgICAgICAgICAgICAgICAgICAgICAgICAgICAgICAgICAgICAgICAgICAgICAgICAgICAKICAgICAgICAgICAgICAgICAgICAgICAgICAgICAgICAgICAgICAgICAgICAgICAgICAgICAgICAgICAgICAgICAgICAgICAgICAgICAgICAgICAgICAgICAgICAgICAgICAgIAogICAgICAgICAgICAgICAgICAgICAgICAgICAgICAgICAgICAgICAgICAgICAgICAgICAgICAgICAgICAgICAgICAgICAgICAgICAgICAgICAgICAgICAgICAgICAgICAgICAgCiAgICAgICAgICAgICAgICAgICAgICAgICAgICAgICAgICAgICAgICAgICAgICAgICAgICAgICAgICAgICAgICAgICAgICAgICAgICAgICAgICAgICAgICAgICAgICAgICAgICAKICAgICAgICAgICAgICAgICAgICAgICAgICAgICAgICAgICAgICAgICAgICAgICAgICAgICAgICAgICAgICAgICAgICAgICAgICAgICAgICAgICAgICAgICAgICAgICAgICAgIAogICAgICAgICAgICAgICAgICAgICAgICAgICAgICAgICAgICAgICAgICAgICAgICAgICAgICAgICAgICAgICAgICAgICAgICAgICAgICAgICAgICAgICAgICAgICAgICAgICAgCiAgICAgICAgICAgICAgICAgICAgICAgICAgICAgICAgICAgICAgICAgICAgICAgICAgICAgICAgICAgICAgICAgICAgICAgICAgICAgICAgICAgICAgICAgICAgICAgICAgICAKICAgICAgICAgICAgICAgICAgICAgICAgICAgICAgICAgICAgICAgICAgICAgICAgICAgICAgICAgICAgICAgICAgICAgICAgICAgICAgICAgICAgICAgICAgICAgICAgICAgIAogICAgICAgICAgICAgICAgICAgICAgICAgICAgICAgICAgICAgICAgICAgICAgICAgICAgICAgICAgICAgICAgICAgICAgICAgICAgICAgICAgICAgICAgICAgICAgICAgICAgCiAgICAgICAgICAgICAgICAgICAgICAgICAgICAgICAgICAgICAgICAgICAgICAgICAgICAgICAgICAgICAgICAgICAgICAgICAgICAgICAgICAgICAgICAgICAgICAgICAgICAKICAgICAgICAgICAgICAgICAgICAgICAgICAgICAgICAgICAgICAgICAgICAgICAgICAgICAgICAgICAgICAgICAgICAgICAgICAgICAgICAgICAgICAgICAgICAgICAgICAgIAogICAgICAgICAgICAgICAgICAgICAgICAgICAgICAgICAgICAgICAgICAgICAgICAgICAgICAgICAgICAgICAgICAgICAgICAgICAgICAgICAgICAgICAgICAgICAgICAgICAgCiAgICAgICAgICAgICAgICAgICAgICAgICAgICAgICAgICAgICAgICAgICAgICAgICAgICAgICAgICAgICAgICAgICAgICAgICAgICAgICAgICAgICAgICAgICAgICAgICAgICAKICAgICAgICAgICAgICAgICAgICAgICAgICAgICAgICAgICAgICAgICAgICAgICAgICAgICAgICAgICAgICAgICAgICAgICAgICAgICAgICAgICAgICAgICAgICAgICAgICAgIAogICAgICAgICAgICAgICAgICAgICAgICAgICAgICAgICAgICAgICAgICAgICAgICAgICAgICAgICAgICAgICAgICAgICAgICAgICAgICAgICAgICAgICAgICAgICAgICAgICAgCiAgICAgICAgICAgICAgICAgICAgICAgICAgICAgICAgICAgICAgICAgICAgICAgICAgICAgICAgICAgICAgICAgICAgICAgICAgICAgICAgICAgICAgICAgICAgICAgICAgICAKICAgICAgICAgICAgICAgICAgICAgICAgICAgICAgICAgICAgICAgICAgICAgICAgICAgICAgICAgICAgICAgICAgICAgICAgICAgICAgICAgICAgICAgICAgICAgICAgICAgIAogICAgICAgICAgICAgICAgICAgICAgICAgICAgICAgICAgICAgICAgICAgICAgICAgICAgICAgICAgICAgICAgICAgICAgICAgICAgICAgICAgICAgICAgICAgICAgICAgICAgCiAgICAgICAgICAgICAgICAgICAgICAgICAgICAgICAgICAgICAgICAgICAgICAgICAgICAgICAgICAgICAgICAgICAgICAgICAgICAgICAgICAgICAgICAgICAgICAgICAgICAKICAgICAgICAgICAgICAgICAgICAgICAgICAgICAgICAgICAgICAgICAgICAgICAgICAgICAgICAgICAgICAgICAgICAgICAgICAgICAgICAgICAgICAgICAgICAgICAgICAgIAogICAgICAgICAgICAgICAgICAgICAgICAgICAgICAgICAgICAgICAgICAgICAgICAgICAgICAgICAgICAgICAgICAgICAgICAgICAgICAgICAgICAgICAgICAgICAgICAgICAgCiAgICAgICAgICAgICAgICAgICAgICAgICAgICAgICAgICAgICAgICAgICAgICAgICAgICAgICAgICAgICAgICAgICAgICAgICAgICAgICAgICAgICAgICAgICAgICAgICAgICAKICAgICAgICAgICAgICAgICAgICAgICAgICAgICAgICAgICAgICAgICAgICAgICAgICAgICAgICAgICAgICAgICAgICAgICAgICAgICAgICAgICAgICAgICAgICAgICAgICAgIAogICAgICAgICAgICAgICAgICAgICAgICAgICAgICAgICAgICAgICAgICAgICAgICAgICAgICAgICAgICAgICAgICAgICAgICAgICAgICAgICAgICAgICAgICAgICAgICAgICAgCiAgICAgICAgICAgICAgICAgICAgICAgICAgICAgICAgICAgICAgICAgICAgICAgICAgICAgICAgICAgICAgICAgICAgICAgICAgICAgICAgICAgICAgICAgICAgICAgICAgICAKICAgICAgICAgICAgICAgICAgICAgICAgICAgICAgICAgICAgICAgICAgICAgICAgICAgICAgICAgICAgICAgICAgICAgICAgICAgICAgICAgICAgICAgICAgICAgICAgICAgIAogICAgICAgICAgICAgICAgICAgICAgICAgICAgICAgICAgICAgICAgICAgICAgICAgICAgICAgICAgICAgICAgICAgICAgICAgICAgICAgICAgICAgICAgICAgICAgICAgICAgCiAgICAgICAgICAgICAgICAgICAgICAgICAgICAgICAgICAgICAgICAgICAgICAgICAgICAgICAgICAgICAgICAgICAgICAgICAgICAgICAgICAgICAgICAgICAgICAgICAgICAKICAgICAgICAgICAgICAgICAgICAgICAgICAgICAgICAgICAgICAgICAgICAgICAgICAgICAgICAgICAgICAgICAgICAgICAgICAgICAgICAgICAgICAgICAgICAgICAgICAgIAogICAgICAgICAgICAgICAgICAgICAgICAgICAgICAgICAgICAgICAgICAgICAgICAgICAgICAgICAgICAgICAgICAgICAgICAgICAgICAgICAgICAgICAgICAgICAgICAgICAgCiAgICAgICAgICAgICAgICAgICAgICAgICAgICAgICAgICAgICAgICAgICAgICAgICAgICAgICAgICAgICAgICAgICAgICAgICAgICAgICAgICAgICAgICAgICAgICAgICAgICAKICAgICAgICAgICAgICAgICAgICAgICAgICAgICAgICAgICAgICAgICAgICAgICAgICAgICAgICAgICAgICAgICAgICAgICAgICAgICAgICAgICAgICAgICAgICAgICAgICAgIAogICAgICAgICAgICAgICAgICAgICAgICAgICAgICAgICAgICAgICAgICAgICAgICAgICAgICAgICAgICAgICAgICAgICAgICAgICAgICAgICAgICAgICAgICAgICAgICAgICAgCiAgICAgICAgICAgICAgICAgICAgICAgICAgICAgICAgICAgICAgICAgICAgICAgICAgICAgICAgICAgICAgICAgICAgICAgICAgICAgICAgICAgICAgICAgICAgICAgICAgICAKICAgICAgICAgICAgICAgICAgICAgICAgICAgICAgICAgICAgICAgICAgICAgICAgICAgICAgICAgICAgICAgICAgICAgICAgICAgICAgICAgICAgICAgICAgICAgICAgICAgIAogICAgICAgICAgICAgICAgICAgICAgICAgICAgICAgICAgICAgICAgICAgICAgICAgICAgICAgICAgICAgICAgICAgICAgICAgICAgICAgICAgICAgICAgICAgICAgICAgICAgCiAgICAgICAgICAgICAgICAgICAgICAgICAgICAgICAgICAgICAgICAgICAgICAgICAgICAgICAgICAgICAgICAgICAgICAgICAgICAgICAgICAgICAgICAgICAgICAgICAgICAKICAgICAgICAgICAgICAgICAgICAgICAgICAgICAgICAgICAgICAgICAgICAgICAgICAgICAgICAgICAgICAgICAgICAgICAgICAgICAgICAgICAgICAgICAgICAgICAgICAgIAogICAgICAgICAgICAgICAgICAgICAgICAgICAgICAgICAgICAgICAgICAgICAgICAgICAgICAgICAgICAgICAgICAgICAgICAgICAgICAgICAgICAgICAgICAgICAgICAgICAgCiAgICAgICAgICAgICAgICAgICAgICAgICAgICAgICAgICAgICAgICAgICAgICAgICAgICAgICAgICAgICAgICAgICAgICAgICAgICAgICAgICAgICAgICAgICAgICAgICAgICAKICAgICAgICAgICAgICAgICAgICAgICAgICAgICAgICAgICAgICAgICAgICAgICAgICAgICAgICAgICAgICAgICAgICAgICAgICAgICAgICAgICAgICAgICAgICAgICAgICAgIAogICAgICAgICAgICAgICAgICAgICAgICAgICAgICAgICAgICAgICAgICAgICAgICAgICAgICAgICAgICAgICAgICAgICAgICAgICAgICAgICAgICAgICAgICAgICAgICAgICAgCiAgICAgICAgICAgICAgICAgICAgICAgICAgICAgICAgICAgICAgICAgICAgICAgICAgICAgICAgICAgICAgICAgICAgICAgICAgICAgICAgICAgICAgICAgICAgICAgICAgICAKICAgICAgICAgICAgICAgICAgICAgICAgICAgICAgICAgICAgICAgICAgICAgICAgICAgICAgICAgICAgICAgICAgICAgICAgICAgICAgICAgICAgICAgICAgICAgICAgICAgIAogICAgICAgICAgICAgICAgICAgICAgICAgICAgICAgICAgICAgICAgICAgICAgICAgICAgICAgICAgICAgICAgICAgICAgICAgICAgICAgICAgICAgICAgICAgICAgICAgICAgCiAgICAgICAgICAgICAgICAgICAgICAgICAgICAgICAgICAgICAgICAgICAgICAgICAgICAgICAgICAgICAgICAgICAgICAgICAgICAgICAgICAgICAgICAgICAgICAgICAgICAKICAgICAgICAgICAgICAgICAgICAgICAgICAgICAgICAgICAgICAgICAgICAgICAgICAgICAgICAgICAgICAgICAgICAgICAgICAgICAgICAgICAgICAgICAgICAgICAgICAgIAogICAgICAgICAgICAgICAgICAgICAgICAgICAgICAgICAgICAgICAgICAgICAgICAgICAgICAgICAgICAgICAgICAgICAgICAgICAgICAgICAgICAgICAgICAgICAgICAgICAgCiAgICAgICAgICAgICAgICAgICAgICAgICAgICAgICAgICAgICAgICAgICAgICAgICAgICAgICAgICAgICAgICAgICAgICAgICAgICAgICAgICAgICAgICAgICAgICAgICAgICAKICAgICAgICAgICAgICAgICAgICAgICAgICAgICAgICAgICAgICAgICAgICAgICAgICAgICAgICAgICAgICAgICAgICAgICAgICAgICAgICAgICAgICAgICAgICAgICAgICAgIAogICAgICAgICAgICAgICAgICAgICAgICAgICAgICAgICAgICAgICAgICAgICAgICAgICAgICAgICAgICAgICAgICAgICAgICAgICAgICAgICAgICAgICAgICAgICAgICAgICAgCiAgICAgICAgICAgICAgICAgICAgICAgICAgICAgICAgICAgICAgICAgICAgICAgICAgICAgICAgICAgICAgICAgICAgICAgICAgICAgICAgICAgICAgICAgICAgICAgICAgICAKICAgICAgICAgICAgICAgICAgICAgICAgICAgICAgICAgICAgICAgICAgICAgICAgICAgICAgICAgICAgICAgICAgICAgICAgICAgICAgICAgICAgICAgICAgICAgICAgICAgIAogICAgICAgICAgICAgICAgICAgICAgICAgICAgICAgICAgICAgICAgICAgICAgICAgICAgICAgICAgICAgICAgICAgICAgICAgICAgICAgICAgICAgICAgICAgICAgICAgICAgCiAgICAgICAgICAgICAgICAgICAgICAgICAgICAgICAgICAgICAgICAgICAgICAgICAgICAgICAgICAgICAgICAgICAgICAgICAgICAgICAgICAgICAgICAgICAgICAgICAgICAKICAgICAgICAgICAgICAgICAgICAgICAgICAgICAgICAgICAgICAgICAgICAgICAgICAgICAgICAgICAgICAgICAgICAgICAgICAgICAgICAgICAgICAgICAgICAgICAgICAgIAogICAgICAgICAgICAgICAgICAgICAgICAgICAgICAgICAgICAgICAgICAgICAgICAgICAgICAgICAgICAgICAgICAgICAgICAgICAgICAgICAgICAgICAgICAgICAgICAgICAgCiAgICAgICAgICAgICAgICAgICAgICAgICAgICAgICAgICAgICAgICAgICAgICAgICAgICAgICAgICAgICAgICAgICAgICAgICAgICAgICAgICAgICAgICAgICAgICAgICAgICAKICAgICAgICAgICAgICAgICAgICAgICAgICAgICAgICAgICAgICAgICAgICAgICAgICAgICAgICAgICAgICAgICAgICAgICAgICAgICAgICAgICAgICAgICAgICAgICAgICAgIAogICAgICAgICAgICAgICAgICAgICAgICAgICAgICAgICAgICAgICAgICAgICAgICAgICAgICAgICAgICAgICAgICAgICAgICAgICAgICAgICAgICAgICAgICAgICAgICAgICAgCiAgICAgICAgICAgICAgICAgICAgICAgICAgICAgICAgICAgICAgICAgICAgICAgICAgICAgICAgICAgICAgICAgICAgICAgICAgICAgICAgICAgICAgICAgICAgICAgICAgICAKICAgICAgICAgICAgICAgICAgICAgICAgICAgICAgICAgICAgICAgICAgICAgICAgICAgICAgICAgICAgICAgICAgICAgICAgICAgICAgICAgICAgICAgICAgICAgICAgICAgIAogICAgICAgICAgICAgICAgICAgICAgICAgICAgICAgICAgICAgICAgICAgICAgICAgICAgICAgICAgICAgICAgICAgICAgICAgICAgICAgICAgICAgICAgICAgICAgICAgICAgCiAgICAgICAgICAgICAgICAgICAgICAgICAgICAgICAgICAgICAgICAgICAgICAgICAgICAgICAgICAgICAgICAgICAgICAgICAgICAgICAgICAgICAgICAgICAgICAgICAgICAKICAgICAgICAgICAgICAgICAgICAgICAgICAgICAgICAgICAgICAgICAgICAgICAgICAgICAgICAgICAgICAgICAgICAgICAgICAgICAgICAgICAgICAgICAgICAgICAgICAgIAogICAgICAgICAgICAgICAgICAgICAgICAgICAgICAgICAgICAgICAgICAgICAgICAgICAgICAgICAgICAgICAgICAgICAgICAgICAgICAgICAgICAgICAgICAgICAgICAgICAgCiAgICAgICAgICAgICAgICAgICAgICAgICAgICAgICAgICAgICAgICAgICAgICAgICAgICAgICAgICAgICAgICAgICAgICAgICAgICAgICAgICAgICAgICAgICAgICAgICAgICAKICAgICAgICAgICAgICAgICAgICAgICAgICAgICAgICAgICAgICAgICAgICAgICAgICAgICAgICAgICAgICAgICAgICAgICAgICAgICAgICAgICAgICAgICAgICAgICAgICAgIAogICAgICAgICAgICAgICAgICAgICAgICAgICAgICAgICAgICAgICAgICAgICAgICAgICAgICAgICAgICAgICAgICAgICAgICAgICAgICAgICAgICAgICAgICAgICAgICAgICAgCiAgICAgICAgICAgICAgICAgICAgICAgICAgICAgICAgICAgICAgICAgICAgICAgICAgICAgICAgICAgICAgICAgICAgICAgICAgICAgICAgICAgICAgICAgICAgICAgICAgICAKICAgICAgICAgICAgICAgICAgICAgICAgICAgICAgICAgICAgICAgICAgICAgICAgICAgICAgICAgICAgICAgICAgICAgICAgICAgICAgICAgICAgICAgICAgICAgICAgICAgIAogICAgICAgICAgICAgICAgICAgICAgICAgICAgICAgICAgICAgICAgICAgICAgICAgICAgICAgICAgICAgICAgICAgICAgICAgICAgICAgICAgICAgICAgICAgICAgICAgICAgCiAgICAgICAgICAgICAgICAgICAgICAgICAgICAgICAgICAgICAgICAgICAgICAgICAgICAgICAgICAgICAgICAgICAgICAgICAgICAgICAgICAgICAgICAgICAgICAgICAgICAKICAgICAgICAgICAgICAgICAgICAgICAgICAgICAgICAgICAgICAgICAgICAgICAgICAgICAgICAgICAgICAgICAgICAgICAgICAgICAgICAgICAgICAgICAgICAgICAgICAgIAogICAgICAgICAgICAgICAgICAgICAgICAgICAgICAgICAgICAgICAgICAgICAgICAgICAgICAgICAgICAgICAgICAgICAgICAgICAgICAgICAgICAgICAgICAgICAgICAgICAgCiAgICAgICAgICAgICAgICAgICAgICAgICAgICAgICAgICAgICAgICAgICAgICAgICAgICAgICAgICAgICAgICAgICAgICAgICAgICAgICAgICAgICAgICAgICAgICAgICAgICAKICAgICAgICAgICAgICAgICAgICAgICAgICAgICAgICAgICAgICAgICAgICAgICAgICAgICAgICAgICAgICAgICAgICAgICAgICAgICAgICAgICAgICAgICAgICAgICAgICAgIAogICAgICAgICAgICAgICAgICAgICAgICAgICAgICAgICAgICAgICAgICAgICAgICAgICAgICAgICAgICAgICAgICAgICAgICAgICAgICAgICAgICAgICAgICAgICAgICAgICAgCiAgICAgICAgICAgICAgICAgICAgICAgICAgICAgICAgICAgICAgICAgICAgICAgICAgICAgICAgICAgICAgICAgICAgICAgICAgICAgICAgICAgICAgICAgICAgICAgICAgICAKICAgICAgICAgICAgICAgICAgICAgICAgICAgICAgICAgICAgICAgICAgICAgICAgICAgICAgICAgICAgICAgICAgICAgICAgICAgICAgICAgICAgICAgICAgICAgICAgICAgIAogICAgICAgICAgICAgICAgICAgICAgICAgICAgICAgICAgICAgICAgICAgICAgICAgICAgICAgICAgICAgICAgICAgPD94cGFja2V0IGVuZD0ndyc/Pv/bAEMAAwICAwICAwMDAwQDAwQFCAUFBAQFCgcHBggMCgwMCwoLCw0OEhANDhEOCwsQFhARExQVFRUMDxcYFhQYEhQVFP/bAEMBAwQEBQQFCQUFCRQNCw0UFBQUFBQUFBQUFBQUFBQUFBQUFBQUFBQUFBQUFBQUFBQUFBQUFBQUFBQUFBQUFBQUFP/AABEIAQ8CyQMBIgACEQEDEQH/xAAfAAABBQEBAQEBAQAAAAAAAAAAAQIDBAUGBwgJCgv/xAC1EAACAQMDAgQDBQUEBAAAAX0BAgMABBEFEiExQQYTUWEHInEUMoGRoQgjQrHBFVLR8CQzYnKCCQoWFxgZGiUmJygpKjQ1Njc4OTpDREVGR0hJSlNUVVZXWFlaY2RlZmdoaWpzdHV2d3h5eoOEhYaHiImKkpOUlZaXmJmaoqOkpaanqKmqsrO0tba3uLm6wsPExcbHyMnK0tPU1dbX2Nna4eLj5OXm5+jp6vHy8/T19vf4+fr/xAAfAQADAQEBAQEBAQEBAAAAAAAAAQIDBAUGBwgJCgv/xAC1EQACAQIEBAMEBwUEBAABAncAAQIDEQQFITEGEkFRB2FxEyIygQgUQpGhscEJIzNS8BVictEKFiQ04SXxFxgZGiYnKCkqNTY3ODk6Q0RFRkdISUpTVFVWV1hZWmNkZWZnaGlqc3R1dnd4eXqCg4SFhoeIiYqSk5SVlpeYmZqio6Slpqeoqaqys7S1tre4ubrCw8TFxsfIycrS09TV1tfY2dri4+Tl5ufo6ery8/T19vf4+fr/2gAMAwEAAhEDEQA/APlHQ/DuqeKLi4t9LtGvZoLeS7kjV0QJGgzI4LHnABOPSs1vlXLcD1Nep/s6QyXPi7W4YUaWabw9qMUcaAlndrdgqqB1JJwAOpq58MfBviLwrc+IppPDzWnioaWH0GHVLPDSS+eglMSsPmcRFsLycg0FRVzx/cAu7I2+vbpmhWDnCkMeenPTr+VfUNpmz8Q6TeXmgRXXjObw6/8Aa0WmJbi/s5jP8k0Vs67Xm2dYgN2O1eVfGrTxa/EyBZZNPuZJobWadUgFkpJ7XMYdlik/v7enegk86sbGXVL6K0tFjkup2CrudIxuPdncgKKiuYfsU7xSlEmjfadrAg84/mRX17qFidQ1/wAL3F/pkOkWVv4msoYtMv7GBREjffWyuIiBNbjuzJxWX4HstUF54Lg8HaTa32mXXiKWPxIzWsUoBF0m1ZN3KKIgSvTd2qormA+VNw55HHJ/DIP/AKC35H0pc4YKepxx9elfQvgHwLqHiLxN8KtSsNLW80uw1LUY9TkXaFhxfzuqy9sGJlC56gjHWtb4crpOm/CvwikXh7UNa02802f+2Y9PgszaeducN9qlkG+M4C7enUYokrNlculz5iEisxAYEjGRnpkZH5gGtHVtGvtFFgb23kthfW63lv5vPmQt91x6qex6Gvc18Tzta2vhkR2I0b/hXZutn2SPzWuhYvIrl/724gfWuzg1STxZ4i+H114jcalat4TafT38qHE2qBfuqHUI0o7Kxx7VncHGx8keYvl79w2ZxuzxnGf5c04fMARyCMj3r6jGrLN4w0+7j8GaudfGiTLcXF3FZRauuZcRzxWgG0yL/dxkrz0ryv4pWNrb/GC0Gry27WlwLGe/eO3W1cq33jNGNyrKP4gMY71RPKeXLIrZwwOBk4PQCl3r13DGM9a+m9cW9m8cJZeKtF0WL4fRa/bpp11MscCpbBsAWzA/vExyzZIHetLwpDql9q2jSfETS7Cw1iHxXaRaVH9lSEmE7/tAQDh4hhcPyORzRHWwHyiJFOMMDxnrS7gACSMHP6da+jrz4j6lH4C1LVkj0karp/iv+zrS4/s2DdFalcmFRtwRn+I12mi+FrXRfHfieXRbVDZy+JltpbLR7C2kljg2oWMzzEiO2yW+76GgD48eRI8b2VcjcNxxxxz+o/MVb0mxl1bWdP022ZEur2dIIfMOF3vJtX8K+k7zWR8OZtPsdCt7G0t7rx7eWkoa1jlP2YeVsTJ6LwfyNWPCtjq2iaxpkfgbTLWWzHi+9g12RbeGRoYUukWDcXPyJ5YLBuAetVZmfOfMmtabJoeqXen3hj+02szwSFWGCVOMj8QR9aqs6qygsAWxgE9c9Pzr6ksl1n+1NO/4RjTLC+tL3xJfx+JZJII5jtN0wT7Qzfcj8g53cDdVjwPZ6fcadc6ToOnwQaBdapf7NY8iG/0+4i3YC34YrJEuPutwD2rKD5ops2as7HyoxCDLHaOvP1x/M0m4bC+RsHVu3Iz/ACr2T9nazu5tU8cnSrSG91KDQbiSzUwpKplWVMbQ3U/SvRNBsILjVrO+8SaYU+I3/CNTS/ZdPtLZbszfbNqOYnGz7R9n/g6+1WSfK5dRglgB9aN6/MNwypAPPTPTP1r6K8QeKJPDt14117TdGfR9Yi8P6bkarZ2pmedr7EkzRIpWN/L6oecU/TfHF1Y3Ok6T9j0m40uP4fLqLW9xp8L77tbDzQWJXOd3H14qmuW1+poo817Hz9pem3OsNOLRI5Gt4muWZpo41VByxBcjLHBwvfFGp6TeaL9k+2Qvb/aLdbuDzDnfE3RvdT69K+iNDvI/GXhvSNd1lbW41i68Ma7HcTCCOMyGPeIWKjgNg10FjqjeLfFHg698QM+qRDwcsujFY4CJdSH3hGGUI047K5x7VKtJMxk+VpHyV5i7d24bchd2eMk4A+uTSqwkXcpDLnGRyK+q7zXIbGDxFq40K40nxBa+Ftz3Gu2tsLqaX7Wiq7Qof3bbRnkdK8p+NTRahrngzVXit1vtS0OznvZYUCiWU8OcDhTijsUeU+Yv94dSOvp1o8xdudwxkjOe46ivpbx38SdSsdf+L0NtBpKxaFdW7aNjTYMW266SNmT5fm+QscegJo8Px3OteKdU12zt1bVZPC+jXrw6Pp8Et7JNPFmdrdJSI0weuenetJQaJj7x81bgFLEgKDtJzxn0/UVbj064fTZNRRYxaRSLAxaePerHqBHncRx1r6Z8cXz/AA//AOFm6no9nb6ffC50RreSS2gkkjD26GYrglfvDB9+K3rPSNJ/4TQpDaWaLc+L9ElaONAVzJbO0wA/ubjgj1rOJpJWPjwSK3IZSMZ69vX9K0vDWgXfi/xHp+h6fsa91CdbeFZGwoYgk5P4H8jX07E15Dqekz+OdOsdOms/GdtbaT51olu7Wh3ed93hohn75496yfAvg3UfB9x4UbWdNOm3EvxBjaIzECTyFhl9efLJIGemSKq2lzHmfNax8zeYvy/MPm4HPX6Uu9ckZGRwRnp1/wAD+Rr6o+B/h0Xngvw5a3FlLe6TqljeNefY7O1+zDKOqreTSEymTcFIVRk5FeafFzX7i38AfD/Qbc2y2EmkLcTpHAomeTz5V+Z/XBB/EVnF7HRKNpNHkW4DHI5xj3z0/PBoZhGMsQo9Tx/nqK+lPh/aTtpPw9tdH06zu/Bd5bu3ii4ubSF4vN8xxMLiVl3R4GCnTPauH+Ct9Bo938RL6x8uQ2Wg3Uli91GG6Mmw7T/FwaozPIvNQ7cOvzdOetLuHTIz/n/Cvq7RfFU2veJPAOmXsOmyWXiLQJpNaBsowbqT98FLkfdICJ93+8PUVl+E7GX7H4Fs9N06xuPh3c6aX8S3U9ujr5vzfaDPKfmV+fkXgntQB87eHdBuvFWuQaVYeWb6ZJpFWVtowkckzj/vlOK0/Dvw91jxNqdraWq2kJuLP7eZ57uJYobfON8rA4jGR904Ne/+B49at7fwjD4d063fwRJ4cuJdRvBbxZ+2taTh98md4k3sFA9x61W8OeIbjwrolrJpdxHZyyfDaaVtiId0okcgHPfBHFAPSNz501/S28O6pdWEt1aXjwuqG6s5lmhfK5O1s4PIxxWeZFVN5YBf72eK+pryPbbi+0K1trvxtH4N06XT1WASSkmRxcNGpGHlAOcYJpPB+n60+p6/q13plrZeJIvsUNzaeGbe2mv/AJvvSMZDshU/8tFAyPagm+x8teYvyncPmyV564GTj8CDTv4sd8Zx+BP8lb8j6V9M/FuSDwP4a+JNrolnZ2iXfiRLQx+RGzLA9khPlseg3AjjvxXk/hXwjqnjP4R6/ZaHp76nq0WvWkwhhCeaIPs86lh32hmXd2GRnrQbKJ54ZEXGWUZ6c9eM1X1DUU0+2ac/OvoK+q/F2vXHgSPxtc6RHZQXx8Y29v5nkJIViMGXVM8AZr5+/aUsLPTfiP4st9OiSGxGo5ijT7qg8kD2zU31sTJWOAHi6FultIf+BU5vFUa7SbSUBgCuW6g9CK9KvvAGkn4I22uWfhcWd/ZwQz395rkF5E96TJhhazB/IkRhz5ZG4Vv/ABMis/GF18Mp4vAdlaeH72z0y3n1mzF0Y1y+JLbzGcqvHUE7qrlM7niv/CWRFkX7LJuf7q7uWyccevNSXXic2NxJBcWVxbzxnDxSjayn0IPIrtPE1z4Ybx5HpHhP4ePLqmmaxPF9ihuLi4j1C2AwvmBHEhkB5+UV13jrwlpui/GX4mXviPw7dajY2WktqWm22p3NyqzObi2QNvLgyKN78rn7p9KqwXPGP+EsiyR9mkyOvzdOcfzq7pesxao0iiIqyc4zzXv/AIe+B3hW517xTfW/huLULG0bR5YtOkF5cxRQXNt506IttukyG6EivEbfTP7Y8feKIdA0Saytrdpp4dMYMJLe2RuQwkYncPepK6XFooooAKKKKACiiigAooooAKKKKACiiigAooooAKKKKACiiigAooooAKKKKACiiigAooooAKKKKACiiigAooooARl3dar/ANnQf88x+ZqzRQBV/su2/wCeI/T/ABo/su2/54j9P8atUUAPgnmt5A8crxygEK8blGCntkVJJfXMkiSSXMzOmdshdmcZ9DnioKKAHrPKtwZ1kYSn70m47j+Oc0kkjSyM7MZJZPvu5JZvqTTe5HcAk+2OtHp7nA9z6fpQBM11M/lb55H8lh5fzt8uO4yeDXYeC/ihP4JtYvJ0fS7zULWV7mzv7qNzLbyN3+U7Xx2zXE5ycDr1xQ3y9ePrQBYbULktI32iRRI5kZVYqDIe+FNRpM8UbRq7LFJnfGpKo2fVQajHLYHJ9KPX260ASGaRWDCRiQuxW3nITG3b9NvGKPtEm1F8yRQhyiqxwrHqevH4VHRQBK1zM04maZzMBtWTecgemc5xUbs0kjySSNK7feZyWZvqTSUUAPkmlljSNpZJEi+6rtuUdvlBPHFOa5mZomaWRnh/1bFyzL7qSeDUVFAD2lkZSrOxVjuK7ztLepH973p63k6NIyTyI0hy/wA7ZZvUkHmoaKAJDczP96WRvnMu55CSG7kf7R9aWK5mh8zy5XTzDl9rldzf3jg8moqKAJY7maISBZnVZM7wrEbs9zg8mmx3EscMkUcssUMmd0SEqjZ9QDTKKAOg8K+MrvwfHrSWaRSHVLB9PlaTOY0LI25SO/BrD+0S/aBP5rtKBtWRmO4fjnNR0UAPe4llaRmdmMm3ezfMWw25QcnkCl86TcG8xsiPYrbzkJjbt+m3jFRj5unNJkbc546Z/HH86AJluZtoUSOqqGA2yEAKfvKB6N3pPtEm2IeY+1CWQMx+XP0PH4VGCGbaDls4x3z6UYPHHvQBI9zNK7u00hd1CM7MWJUNu2nJ5FI00j7d7l8AAcn5V7KM9AKaAW6DPek/xxQBIZpHaRmkdjIQ0jO5Jk+bcN3riiO5miYMs0sbqNoZGKttHAGQfugdBUffHejP+f8AP0NVdgSPcSyhg0jFTjIZt27b0zk847Vr+FfF994R8TaZrduftNxY3MV2sUzsyu8fCE/QVif44/z+VFSvdAuarqtxq9/LeXDbmkkMu3cWCEt/Dk8VC15OzBmuJmKMHVi7MQw/iXJ4NQ0UASxXc8MQjjlkiQHcsaOVQfgDTJJHkCBmLqo2oMnj5t2OegptFADo5nihkiV2WOTO5VJCNn1UGiOR4wwViilShGSNyn+E46im0UAP82RGjZZG3RgiPBwVU/wg54FKszpC0KOyQyZ3R5Oxs+qg1HRQBIl1LHH5aySCLn5VdgvP+yDSfap+P30nCsirvOAn936e1MooAk+1Sq6yiWUTRhRG+47h7Ag8L7Uq3MyNJIkrpJJ9+Ted7fUg81FRQBLLcSTKRJIzqzB2B+b5gu3ccnk02GaWEsY5GgaQbXKNt3fXaaZRQA+SWSRSrSM4Zgzc/wAQXbk5PLe9VtStv7UidJ2dwxyz7/nZvUk1NRQBlS6CksCQvc3MkCgKsLSFlXHoM4py6GqQpELq68tXBRPM4U9QwGcAg1p0UAZa+H445vOS6uY5slvMWQ59zkc5NOn0Nbhi015eXDMNp8yTcSud2CSem5Qce9aVFAG74L8aal4L025063js9SsJriO6MGq2wnRZoxtjdfmDcLxg8VjX15d6r4h1PW767muNT1GR5bq4c48xn+9gL0U+lR0UAFFFFABRRRQAUUUUAFFFFABRRRQAUUUUAFFFFABRRRQAUUUUAFFFFABRRRQAUUUUAFFFFABRRRQAUUUUAFFFFABRRRQAUUUUAFFFHTrQB6/qHgPwjoug+GbC603Wr/X9d8O/23DfWdxmO3lb7kf2cJ8yL/Geg71rWf7KWpX+pNYQ+JNOmu7ST7Pq8XlSY06Q2zzIGOP3gxwStecWnxc8X2fh3+wrfXJItKW3NqLfyIS4hP8AAsxXeoq8fjt8QN1uw8STq8B3Iy2tuGOI3hBc+X852mgDpta/Z5js9M8+w8XWOrzm3sdQS0htJ1drW5uPs8coGMlt3VfWtvUf2SbzRWee/wDE1lZ6bHZSXb3jQSEr5U4iYGNRkckD6kV5Ta/EzxXYvG8GtzQvHaW9ipSKLiC3l86GPlf4X5z3rS1T44eO9bsJLK98QedazRPC8S2VrEm15Fdh8kIPLKDVOxOtl3PWvCP7MNroni2W38XapYXNs0l9b2WnKZSb14rfzA4IHyfQ1574w+BN34P8JXesvrVlcX2mx2kmoabGjiW0S5/1OX6OT7Vnx/tAfESOS7kHiiUvcszzNJZ28jMzxeVIUJj+TIrJ1r4reLPEfh9dE1LW5brS1SMfZzDECwj/ANWHkCq7be1SUcpRRRQAUUUUAFFGaM0AFFFFABRRRQAUUUUAFFFFAHseh/DHw7cfBnSvEt1bw3Gs315eWn+ma8LBVEfQRIVJkb2Ga0dO/ZT1O81nU9PbxFZxHT71bKSaSJ2GTa+fu6dK8euPEeq3mg6fokl40mk6fM89talFCxyP94+pzXXt+0J8RpFRD4nkIU5QjT7QMGEflBmPk/MdnFAROpuP2a/sVq2p3fi/TLTw00FrLb6tNFNsle4/1SGPGQPekj/Z7t7jw/pGsTa5Z6RpcljE93qUzPcLJcSXUlvEFVU6EpmuL0342eOdJgtobPX5I4YIIrVI5LO3ZEii5jG1o2yQe9LY/Grxzp4j8nxFJiOEQLHNbQTKEEjSqMPERlXYkGgs7bxB+y/qHhrRb6bUNesU1W0s7zUP7LWKRneK1l2SuGA5yOgrp/Df7LqaDqtjd+IZ7fWNMurS+jeEJJDJFcJaeau4EZGD6141dfF7xreIwm8QXMm+3ubVi0cbMYZ23Srnb/H+laVz8fviHebfO8TvJsZyv+g2qZLx+SxOIe60GTueteGP2a9BT4i6QNYvLe30K4ubazi0ueaaSS9me1juJEDqAEGHwCa5Ox/ZZ1zXtF0nU9NvrYvfXVvGbOZXiNqk7PsbkcjkYNcjZ/H74habcNcW3iVo52eNixsLST50jWIOu6H5TsUCoY/jx8QI7O2tY/E0wgg8nyyLWBW/c/cy3l7v0oNNC58V/A+jeC9B8Fto1/Dq3222vHutRhSREnZLt4l+Vx8uAD+VecVv+LPHeu+O5rKXXr5bxrJHS38u0gt1j3szt8sUaZy7E1g7T6UPdhKS0sJRRRQSFFFGaACiiigAooooAKKKKACiiigAooooAKKKKACiiigAooooAKKKKACiiigAooooAKKKKACiiigAooooAKKKKACiiigAooooAKKKKACil2n0oIK9RigBKKKKACiiigAooooAKKKKACiiigAooooAKKKKACiiigArV0fQbPV45HuVlfb/AHJXj/8AQWFZVdN4T/49p/8AeoAX/hCdM54uuDg/6bN/jSf8IXpecYuM/wDX5N/jX0Dc+HtD1HwToSXCX8dvZeH31KSK2liQSzfafKwxaInpSSfBzRYbfTZJp9WjEl0tvdRrGZutu8mYyIVz8wUfL5nJFAHz/wD8IXpe7bi43en2ybP86X/hCdK/6ePX/j8m/wAa+hIvgz4etWna8vtVhtDJBHClsj3DqHi3bmEcJ4zxkpHXFeE/B2naxDf/ANpzXkL/AG2ytrWWPbFHtuGkAmkDKSVwn0oA8w/4QjSx1FwP+3yb/Gj/AIQnSdu7bcbfX7ZPj+de66p8MfDFleXiWkuvXqWdjPcSWiwtFKXjuII1KM9sNwIlOSKv/wDCsbBobjS2N1JZWWoXc8ksIX7UEFtbMI2YIzMQzuMAdQfSqsB89/8ACD6Xzxcf+Bk3v7+x/Kj/AIQfSx1FwOcf8fk3X06+xr3jxD8H9I0G+ng261qatNIkU1oqZtlEKOpnDL0Jd/yPpWlY/C/w3ouqabJDfXV7fwD7Q0E9s32S4P2R5gqsYVRiSR0NSB86/wDCEaV0xcZzj/j8m68cdfcfmKP+EJ0ojP8ApGP+vyb/AB9jXuHgfWYfFml69ba/FGtnZaTM63kNsHn3F4lDfMw5GD+Rrak+H/hfXNH0W5F5erYQaSsxNtalbq4drpk3FUSboCM+lAHzp/whOl/9PXr/AMfs3rj19aX/AIQjTPS79P8Aj9m/x9j+VfTGn+DtMm0ddHhmK2r2rWyXs0Hlyqp1TYGYN0YLxXE6tbx+CdAdtM025tf7WknsJbfX4UkuFVBgSRbFTaMsRn2oJvueOjwTpTZwLg46/wCmTf40n/CF6Xu24uM+n2yb/Gu78O61Lokl7p01tD5N5i1uWuoiXg52kj0Ir1rWPB6eI7zWdIa203SdLs9Tt7e1mjsjFKsDS7VZZvuzZXnk9KCj5q/4QnTM4xc5/wCvyf3Pr7H8qUeB9LbGBcHnH/H5N/jXti/DHSZNHm1QWfiCBYY5XOkzGE3s+x0XdH+6wFw7nOzGAfSun8L/AAv0nQfFWlXH2bVNR88zZiZY2Syxao4W6+VstuLDHXIIoA+bD4I0peouB/2+TemfX0Io/wCEJ0r0uPX/AI/Jv8favoLUfAGg6tcG9v8A+0tHhig0oS3TOi2syywqjGIlcAgjLenektPgzoFlLc2+s6tftd2Tw2t3Hp8f2gwzsrljhIX+UE8+lBTR8/f8ITpXpcdQP+Pybv070n/CF6X6XH/gZN/jXsGh622vW2q6Jcw2rWdjotx5UkcPlyHyFzG7E/xE155QSYX/AAhWl7ScXOM4z9sn/wAaP+EL0vji4/8AAyb/ABr2Pwn8OdL8ReDZtTmlvxqUf2hgqgJbqsfbJQqx+siVryfBvTLK81EX0msJZ2+qzWsUiRgvJAtt5odQqHIJ7igDwX/hC9L64uMYz/x+Tf4+xoPgvSl4P2gH/r8m/wAfavojT/hzo9jqS2KW18buPW7SAXkkscrRQyW7ud2YsY3HH1rAvfAuk6l4Z0+80+01GG7XRbW62xsr/aHe5dH6J2Ugn0HNTcDxb/hC9L4GLjJ/6fJv8aP+EL0vIGLjJOB/pk3+Ne/ah8HNDtbm726nfQW1rqJ0dxMyFluTMiIxG3hfLLMT7GuY+Ivg/QfB89rHYXOrXEZeRLmG7jeFzt6MjvCgI+lUB5R/whWl+lz2/wCXybv070v/AAhOlf8ATx/4GTf4+1fQuufCXQpvEN2sMGpW0FxqF3bxGFl8mxWMZQy/JyCOnrTrP4a6XDp0+jK14jXU+lh9UnKGCRZd5cQHb3Jo62A+d/8AhC9L54uOmf8Aj8m/xoHgfSmzhbg4/wCn2b1A9fUj8xXumm/C/Qbz7PNcPrdhbzQzsLaYgzo6SoisxWHIQgtyY8cGqOheEYP7W8ZaDK4t44vJtVuLkI/lg30UZfIPHy8/SgLczPGV8F6UwBH2ghuhF5Nz+tKPBOmN0W5P/b5P/jXu8Pwr0Ka4jmmbXLK38y7hkhuCHnJi2bJMpDnYctljG44NcrfyP8NPGWp21nbw3SIrWyC+jWYbP73y45oA8x/4QrS/S564/wCPyf0z6+9H/CE6X6XX/gbN/j7V9KXXhvww+vazGhdL/wD4RdZPshsYvsqMYEJfOfvZBqlqHw78PeE1102F5qF5fW+m6jDIbq2cQMRasVkjcxqDycgigOh88f8ACE6V1/0jHX/j8m9M+vuKP+EK0sNgi5z6fbJvXHr619C618NdL1rU45XF/vv5GhMljtW3slWBDumyjYBIOD3ri9IcfErxzBDqkK2sckNwzQ6THsJMcLyDAO7PKj86JAeXf8IVpeM4ucYz/wAfk3+NH/CFaXkjFzkdf9Mm9vf3H517wvwl0b7HbXhXWp1uhaZ0yF4xe2xlZw7SnyvugBcH3Fcj418L6b4X03Tltria91CZ7jMu9PsxjjuJIoyi7c5IjHX1FAHm3/CE6V/08d/+Xybt170n/CFaWeguemf+Pyb39/Y/lX0Xr3hYatPq+ji207TdGs7y1hsrhrIxyCF5UUSrOPlmO0sTk9Aay3+FGitY3d+E1uNLQXI/s2Z4/tlwY2QK0R8r7uHfJ9j6UAeE/wDCD6Xxxcf+Bk3v7+x/KkbwVpa4yLkZ6ZvJv8a+jPCfwz0fR/FGnXKwapqS/wBorCIFEZECm2SUi6yrZ+Z3T6gjqKj1rwToWqR6bdagmq6YsWmab5t5b7BBIJdkb7QU5cZZiOoAJoDqfO//AAheljqLjpn/AI/Jv8aP+EL0vni446/6ZN/jX0Bb/BvQbG5vbfWNRvorjT2t4rmKyTzXE0u9jxHC52gBQfTIryK7iWK7ljRzIiOyrIwwSB0yKAOc/wCEL0v0uP8AwMm/xo/4QvS/S4/8DJv8a3aKAML/AIQvS/S4/wDAyb/Gj/hC9L9Lj/wMm/xrdooAwv8AhC9L9Lj/AMDJv8aP+EL0v0uP/Ayb/Gt2igDC/wCEL0v0uP8AwMm/xo/4QvS/S4/8DJv8a3aKAML/AIQvS/S4/wDAyb/Gj/hC9L9Lj/wMm/xrdooAwv8AhC9L9Lj/AMDJv8aP+EL0v0uP/Ayb/Gt2igDC/wCEL0v0uP8AwMm/xo/4QvS/S4/8DJv8a3aKAML/AIQvS/S4/wDAyb/Gj/hC9L9Lj/wMm/xrdooAwv8AhC9L9Lj/AMDJv8aP+EL0v0uP/Ayb/Gt2igDC/wCEL0v0uP8AwMm/xo/4QvS/S4/8DJv8a3aKAML/AIQvS/S4/wDAyb/Gj/hC9L9Lj/wMm/xrdooAwv8AhC9L9Lj/AMDJv8aP+EL0v0uP/Ayb/Gt2igDC/wCEL0v0uP8AwMm/xo/4QvS/S4/8DJv8a3aKAML/AIQfSf7tx/4Gzf41zt1AlpcTRRDaivtBJya7+uE1L/kIXP8A10agCvRRRQAUUUUAFFFFABRRRQAUUUUAFFFFABRRRQAUUUUAFdD4auobeCYSyxxktxvYCueooA9C/wCEgTyzD/aI2CLyynnjHl53bOvTdzUzeLJmWJW1lyI2Dx/6SPlYDZnr6VxWq+H5dD0HSNUvbi2gi1IM9rCJV8wxg4DkZztzxnpmslZ42DkSKQhw2GHyn39OlAHpi+LJhNLKusMJZPvyfaRvfHC98DAqu2vpIAJNQV1bbkGYfw7tvQ/w7jivOjcRAKTIgDYx8w5z0xTmkVeSwAxnk9vX9KAPVbT4gX1jJcvFrbM9xbfZneS5yRGXV2x7kxr+YqnD4peGRpIdWZJdzOWW5A+ZlVWPJ5+6K80FxEzbRKhbONu4Z5oW4iaNnEiFFGWYMMAe5/GjmA9MHiyaTzj/AGvIzT/6xmuB83Gz19Km07xtPp91aS2+rASWTCWFJJgyqV42nnkY4+lea2NudU1G3srXbPdXMwgijDcsxxhQO5ORx7itjxF4QvfDcNtLcT2t3azvJFHLZv5sW9GwynKLzgg4oA6iXX7drq6mhuLe1FwSGiglAUKW3bevIog8TNaPGYdV8vy12KVnGAud23Gem7mvO6KAPQ/+Ek/6ia/9/wD1bce/rz9albxUZrq3uZtSW4lhIZGmmDAYbd0z3715vRQB6Dfa9FqF9Nc3N7BLLNIXeQuOWLbs4BqSbxQ9xbxW8mqsYYypWN7gFEYd1wc8ds151RQB6Q3i6VrtLltYY3Cjb53njdg/eHXGDSx+LpYfN8vWZF8xi8jfaBlmK7c9a82ooA9KTxg6vb+bqEd1HA6uIbubzYW28KCuemKfceNri61C8v21fF3eP5s8izAbm9cZrzKigD0yx8WJpdnqFtbXNvGt6ixyTGRS4jHVRz/F3rN/tK0/5+of+/g/xrhaKAPRIfEght3t49T8mA9YknG0569+/epW8XzyeRv1h38g7k3XI+XI2nbz/d45rzQyIrqhZQ7Z2rnk464/Ok8+PaG8xdpG4HcMY9fpxQB6UviqWN5X/tc73dXd/PGflXap69RTrfxZLaqiQ6y8Xlr5cSx3WAF3btvPauD0/SbrU445oFVLVpxb/a5JRHCspGQrOeBkA45qtcW8totq88bw/a4BcQ+YpXehOAy56gnjIoA9MvPHMl9o0Oly3tqLVJ/tJ8sgPLIejMxPUVSvPEI1Ag3OprOwztMkwbGfxrzlZo2ziRTjrgjihJo5ASkisB12kGgD0pvFUx83dq7HzMeZ/pI5+Xax69TSN4oZ7dbf+1D5KMjJF9oHykfdwc/w9q8+1C2l0nUJ7G9j+x31uxSSGQ4YMBkgg8g4Iqa00uS80fUNRRozbWTwRTAONwMv3D+lAHft4wme8+1HWm8/YU8z7Qd/LbsemKq/21Dumb7em6Yq7/veXwSRuOf7yg1539oi8sv5qbAcFtwxk9B+orR0/RLjUdP1O9g2m30+JZJ/m6hpI4QB9GkH5igDvJPFk0lxHcNrBNzGGAl+0Deqnt1wc96p3GrwXEjSSXsbzO3zSPKCT+tefC5haMyCVDGpwW3DA/H8RT2ZUjLsQqf3icD8/wADQB6G3iAPK8p1IeYYvKZ/PGWTbt2HnpUknip7hESXVjIkcflqGnHCkbWA57rxzXm3nxhkBkXL52jcOcdcfmKb9sgIJE0ZAbYfmHDYzj64oA9MXxS8aSINWZUl++FuB/d2+tLoviw+H9Qjv7G+hhuYxIqsXBxvR0P6GvOIVNxdxWsQ825lcRxwpy7sTgKFHJOeMetFwps7p7WceTco5iaGT5XDg4KlTzkHtQB6PH4umjmeZdYYTEKGbzxyo7de3aqkmrwSBQ19GyxgqgaUHbyzHHPdmJrz77RF/wA9E6hfvDqegpyyIzsgdSy4DKDyM9M/lQB6NJ4maS1W0bVC9sm3ETXI2Lj8cnHapP8AhLJZLuO5fWWNxGGAm88blU9uuDnvXmn2iLeyeYu9eq7hkfWhZo2QurqyDGWBGOTgfnQB6VD4rlhaZo9YeIzHc7LcDJO3bnr1qa08ZSQm3zqMVzHAVaO2uJvMhO37owT0ry37VCSAJoyT23D/AD2qxqEaafeS20k0DSxvtIjlEiHAydrA89RQB6VceNJ5tWvdQ/tfy7y6kMs7wzBdxPsD27VmtqVoxYtdxFmbk+YP8a4yazWPSLa/NzavHcSNGsaTKZFC/wATDOQDg4PfFUxcRFFcSoUY7VbcME+g9+DQB3/9o2uM/aYcf9dB/jR/aNockXUOB/00H+Ncfo+my69rWn6bamNru9mjgh8xgq5Y4B/EnFV7uP7DqE1nLIhuYn2MikZ646UAdv8A2laf8/UP/fwf40f2laf8/UP/AH8H+NcFHNHICUkVwOCVIOOcfzpEuIpIy6SIyAkFlYEcdeaAO+/tK0/5+of+/g/xo/tK0/5+of8Av4P8a4JriNesij6sPb/EfmKb9rg5/fR8dfmH+e4oA7/+0rT/AJ+of+/g/wAaP7StOT9qh6Z/1g/xrgftEWQPMTJ5HzDn/OasWMS6jfWtuksKm4lWNJJpAiKWO3LEnhRkc+9AHbDUrQnAuoSf+ug/xo/tK0/5+of+/g/xrh7porS6a2NxDKQWRHjcESYAIK46jBHT1FQ/aItzL5iZX7w3DjjPP4CgDv8A+0LXj/SYeen7wUn9pWn/AD9Q/wDfwf41ysOi3E/hu612JojY29ylpI5cZDyRlwcegAJ/A1ltcRKqMZUCudqksME88D34P5GgDvv7StP+fqH/AL+D/Gj+0rT/AJ+of+/g/wAa4WigDuv7StP+fqH/AL+D/Gj+0rT/AJ+of+/g/wAa4WigDuv7StP+fqH/AL+D/Gj+0rT/AJ+of+/g/wAa4WigDuv7StP+fqH/AL+D/Gj+0rT/AJ+of+/g/wAa4WigDuv7StP+fqH/AL+D/Gj+0rT/AJ+of+/g/wAa4WigDuv7StP+fqH/AL+D/Gj+0rT/AJ+of+/g/wAa4WigDuv7StP+fqH/AL+D/Gj+0rT/AJ+of+/g/wAa4WigDuv7StP+fqH/AL+D/GuMv2D30zKQymRiCOlQUUAFFFFABRRRQAUUUUAFFFFABRRRQAUUUUAFFFFABRRRQAUZoqzZ2TXm/wDeY/CgD2C2+NEdh4RsrG21S/ivLPwu2lQsjMAk/wBs35Gf9jv6VtXXxi0H7P4eMGpmaWxvVltzdWEkr20JtGjIkJlAY+YQfk214YNJLYxMTnpxSDSd3SbP4VXVsg98j+OOh2N1qEmmXccF9LNbTz32o2U1ylyqw7ZYkCyo5BbkGVjXCfDvxNoGlLPb6pqX2WNtV03WFlitXkX90zebDtzn+hrz/wDskkZExI+lH9jn/nqfyqSz3y68daZDpfh+3bXPPtbzTooRo8afu4pmv95kkbOFKxcEE8CrWqfF7RdD8XanHc6qNcvvtupSWGqy2ryR6akmwQhNrqzgAH7jLXzz/Yw25EnAyM7B8uDg45oXR1+YrKP97BJoDoe42fxxtW13w6JL+NYf7aMupSWtqbe3kjMESJJtZ3YYcFuPQ1wXiy1fw38O7XRNQP8AxMZ9XubpU6mOAKiZ/wCBkEj1ri/7J6fvjz04609tHaR8yT72x1Kbiq+gyaO4GZRWh/ZB/wCex/Kj+yD/AM9j+VAGfRWh/ZB/57H8qP7IP/PY/lQBn0Vof2Qf+ex/Kj+yD/z2P5UAZ9FaH9kH/nsfyo/sg/8APY/lQBn0Vof2Qf8Ansfyo/sg/wDPY/lQBn0Vof2Qf+ex/Kj+yD/z2P5UAeneAviTpGh/De80S/uZEZvtLfZYICHmkZU8o787HQYOVkUGujm+Knhmx1K91DT9V/0rUdcn1ZTNp8jC1D2jxoHIcPkSHOUYn2rw4aQWziYnHXikGk7iQJskdePxoCJ7Zb/GDSF164k/ty+TTI9csdRELo7rNGlq8Uq4P+2QwrAtPHmma14T03TNZ8RXcci6Ja2LefA84t5oLzzXK4OSGj+X3rzP+yT/AM9j+VL/AGO3/PVvXp7Z/lQEj3rxH8TdGXT7jX/LS5ebxA0dnHJs8yTTDOlxIpjAyh/dsikjneB3rz/4x/EqbxdeWE2n6nbzS2clxLa3Fnaz2s0Ks3yKzvK+7H0rhf7FA5EmDjIJQEDjPAz6A/lSLpJYKRMSG6EDrQvdsB7rqHxm0G61fULtdXuntX1C8vbm1a3b/iaxTRoI4nJ5TaR2qm3xd8O/ZdPeW5mudNW50qVPDptyUshbo4mAbO18sQRk14t/ZJ/57H8qBpBbpMT+FHW4HtWn/FzS9P1K1Euuvqd9FZTW8mt3FtKhdJJkYRfIwkUqoIDqTXIad450Gy8UeMLyWGa/03ULm3eC3nQAzRJewTMpxwvyp+lcJ/ZJIyJjj6e2aP7IPXzTj6UFL3We1H4vaVDrVlKddk1K9jN+Y9Yu7KT9xFNs8u3O11k7ffUnFcpb+ONKg+J3ifVrHUbjTrfULOW2sdUaENNbSnZtfCgcfK/OP4q4AaQWOBMSfpR/Y55/enjrxQSe16P8V9AttL1+C51m5uXvftaXH2qzbF7utEjhdFRwiHzASQ6tV7QfjlpC+NLrUbrV7qGyT+zo4IriB5Y/s8ceLmMKrAhiehNeDf2T0/fH5uRx1o/sn/psfyoJsetw/FjTrCLRriw1i706zsRbwtoNvbZUyRXXmNPvJxyvvWlP8aNLj0nV7SyvbUeff6hLcve6fNM+oxTNujOPNVQy/wC2rV4l/ZP/AE2P5Uf2Sf8AnsfyoKPdofj9ZtqviWeO8igln1UT2l1qVlLcCSyC/wDHuFilTZ/wLevvXK+OviRpXiX4aW2kR3Ze7ha2W2torZoUhVVfzS6klcnPGwrXmZ0gjrKR+FH9kHr5px9KnoB7tpPx00iztvDESyWtppVitor6alhK09vLEm2SRZDL5eGbnhTXCap8RLXWte+HGqXtzLdXmkzRtqc00eWZVvfMxwdrfu+K4P8AsnnHnc89vTrS/wBjnr5p/L8KHHmdwXunrMPxue9jtrPU9VvLmyaz1WG6jkG4SPMrfZgT1+XI5FTT/GLTU320F7dJp9xeahLc26pxKklkkcQIJwMSAng15B/Y56+acZx0oGklukxPGenbrmqDoe0Q/FDwxZ65c67Dqci3moXGmTm3k07zVtTBbSxuX5UOPMlViF67ade/FfR5tSnlsvEt9pd272U1zqMdqZPtKRRMskCBvnKsxz+9YmvFP7J6fvuvTil/sk7Q3nHaehxxTb5rAex6d8SvDEc1rrEt3JDeG30q2exFoCyfZrxZZXLgYJaMFeKuR/FjwxF4PubD7fLKkgjlW1ns3klS5F75jPkv5RUx8dK8QGkFhkTEj6Uf2SRwZiPwpCSseqeJfHWneLvid4IvU1E3JtbyM3dwyPFbp/pG7KiV2ZV29Swre1b4paRbahqVpN4kn1PVJJtQFn4iFsSNNWRkEUcf99QI2+bH8Y9a8O/sg7s+cyt6gUv9jnIDT5PUcUDPSfiN8VLTWvBcGi6VfXTym6jN7cGIRfblS2ij81gDlSZAWKj0NWE+Nkun+Fzpmn6reWyxeGbSwgVF2hbtJ0MjA9eUB5NeWf2Qef3x468dKP7IPP748cniiPXzA92tfjB4ajg8SLFfyRx6jJfyNaTW0hV5ZY0W3ZMOERVYZO5XxVfxZ490RprzQ7nGlDV9Dka/ntws8EWpTtFJKyhRnA8plAHQtXiP9jnn96eOvFH9jBNyiT8Ngz+ZNAHt158WPDjaX4k0631S4isLqGRAiWjJLPJ9kiijbIfYybwWKyKTwaqv8VtIk1rfJrl1LpF2syQ2L2fy6Sr2jxKQQcsQ53fLmvG/7IP/AD1Pp0o/sg9PNOevT3x/Mj86OodD2jR/iV4U0l7azOoXEsNuNNRbmO3ZAz29nLEWYAhivmkE8ZIIrYt/jZ4fi8RvdnVdqzWVlFqE8FlKjXLQrL5nlnzcg8j5XDKcjmvn/wDsk8/vjx14o/sc4B8049cUCS5blGRg0jMowu7pTa0P7HP/AD1P5Uf2Qf8AnsfyoGZ9FaH9kH/nsfyo/sg/89j+VAGfRWh/ZB/57H8qP7IP/PY/lQBn0Vof2Qf+ex/Kj+yD/wA9j+VAGfRWh/ZB/wCex/Kj+yD/AM9j+VAGfRWh/ZB/57H8qP7IP/PY/lQBn0Vof2Qf+ex/Kj+yD/z2P5UAZ9FaH9kH/nsfyqlInlyOlADKKKKACiiigAooooAKKKKACiiigAooooAKKKKACiiigArU0f7stZdamj/dkoA9cuvhbBeeENDurC+0uG7m0p9Yv7u+uJl2qJ/K2qBC3fj61RX4H+I5V0qaO406SPUpBDbvJJKh3GMzDIaMfwg/cz0NYbfEHV/7JGn70+zrpx0wfLz5Rm87881o3HxX1e8hiims9MYC4S4m3WS/6WwjaHE2D8w2semKCDU0/wDZ/wDFWsXV3Dbvp7tbyxQyyGWYAs8e4L/q94I9HArH8G+A5fF2n63bW6L/AGpb3dnFHJI22NFYXBmLHsAIf0p198VdV1SMxahZ6fqVopjMFpdWiyRW7RpsRkVhySOu41n6B461TwxK8umLBaySGBpAsYIfylkVM5/vee2foaI9TU07H4R61qqWk9ne6TfW91s2XFvcyeWFaR4i5LIrYVwu49sjNaFj8A/FeoXlxbqLGOaEAyCV5m2DzZIlJ2xtjOzcM9QM1jp8UNbtbiVrL7Pp8L6fJpiW9rABElvI29lAP8QfkNT7z4qa3qV1dyaklrqkN1Bb281re2/mQyCEAIeCCCDvPvuoJNS1+E9xod4JteuLO4t0tLq8k021uJBO4haRQrts2bTInDZ6VzvizS7K1stA1LT4GtLXVLQyG0LbvKeJ5I2we4JTNXNP+IE76lbf2lAslithPphis0ERSGUszlRnbncxIyaz/FGtWupQ6Rp9gkg07SrcwRNOPmlZ3aWRz6fOxAHpQBg0UUUAFFFFABRRRQAUUUUAFFFFABRRRQB1mifDPVtf8Lya/BcWS2MUkiFZJHD/ACeoCMqZ/wBo1ft/gz4hutQurH7Rp/nW1/NphDXEhTz0h819oCZbjgYrI0Hx9qnhvR5bGzS2G9JYhctDmZEl++qt6H3GRWpf/FzV9Tj8u5sdNkhlna5uVFsMXMjReUzyrnGSP7po6hE0NN+EEnmKlzqlnNfLq1vpjWMUs0YYSweYCJDDuUj3rH1L4bzWeiWOqWWq2d7A+m22oXC/vEMZmn8lQMpyKkX4ta6NUmvXW2adrqC8TdACIpIovKQpj1HXNVNN+Imoabp9raG0sLmCG0WxK3MG7dEknnR5x3DVOodTUuvgl4jt7x7bzNOuJFkaJmjnbaZlnWEICyf6wvIMeoI9az/G3wu1r4fPbLrUtlbi6Z41nWSYohXvJmNW/StDVfi5qGoaLLbRpJFqNxrH9t3VwFXZ5owU8odVGdhI9V9q5TxFrX/CRyBjpunadyzOun2ywiRm6u2B+gqo9LgdprHwV1Gy1q6srLVtPmhS8ntLIzyyxTXjQrltiiPaOaI/g9eLpVzbzT2UuvS3GnRWtlHK++ATjLecGTb05+lUpvjBrlxcTTvDZGeSaS6jm8gZglkXbK8Y7b15wehqD/hbGuxwwNGLeK7iktZWvkiHnSmAfut+eu1eDjrR18iWWLL4N65qkkX2K/0q5imhkmjvIZZnjcJJ5bIMQ+aW56YzVLR/BEl9J4m07y1udWsjBb24t2+VpXvIYf5MaVfiZqK3EbLY6etlHG0S2C2wWFQzo7EAHOcg1S/4TrWf7U1XUBceXe6i6zTyxgAFlmWZSPTBUUGkbXVzZt/g3rmoXMVvZ32kXwme4RZ7eeZoleLHmRkGHezHIwAM8isiPwLqEmv6npAu7GKbSoHlubmaVlt441IGeE35yQOncVcm+J2p3NxHus9PW1XzWexW1HkSPJt8x2XPX5RjBqm3j3U5PEd/rE6291PqKPFdwzwB4ZYyF+THb5lBzQSalj8IdZ1OHUpbO90u7jsFeSTyJ5XEqrH52UITZu28YYirln8DNf1DWn0q31LR5b+FYJJVjnuGRBMMqGIg449apQfFrWreGSPyNPcZmMBazXFuJovKcRgH5cj64pln8V9atNWuNRaGyu55ZbWcC6tgyJNAu2KRQDnK9weDQTqS2fwpvjqWkW9/q2lafJeiGT7PJcSG6SCSbyRIF2bSSea0D8BfEVwmpXlhLaTaba3N3BFK7OHuEgOCVGzYpzxyetYj/E7WntrdTHafabYoYrswKZgiS+aqZ9AaZffEO+1JLhLuz025DXM11bma0WQ2ryn5zHkEAbucNQV0Ohs/2efFF9dXsFpcaTctaXS2k8kc8zKJz1jyIfve/SsHxJ8MdZ8K6Db6xqMliLW4MYjjjld5MuM4yU2Pgehplx8RNSvpdVa+tdP1ODULr7bLbX1ssqLP08xFIwOOxNQah481HUPDz6P9ns4LeYxNM9tbiKSfyl2pvIIAx/s9anWwHTWn7P3i26s9PuP9BgjvRA0aTzyqUEoyhciPYBjrtJrnNQ+H+oWeq6BYi7027fXHVLO6tZHaI75/J+csisMNU1r8StVt7jTLz7LYS6nYokcWozWymcpGu1FY4x+OKof8JpqXneH5d650Jw9n8v3cTedz680O9wNuT4R6msPmxazoN45gup0htriVpHSHPmbVaFVBGD19DUs/wT8Rx6fbXrTWDQ3W54U8yYMzJD52AGj5Yr6cVhW/jrVbeSCRGiBigu4B8h6XCt5v/oRxXUaP8aL221exu76yiZba9XUXewiSGW4nVdgaRyfulOCqiqKdiCH4Uapp17Dpt4llc6hqUd0lrtvHxayWyJJOH+T5iELLgdGBHWo2+DPiFI7G4a501V1CPzUkMsuI0FubhmdvLwQFByY84warab8WNZ01rmRIbOaaWa5uEluIQzRPcLtlA9jTbf4qazZ29pBbQ2VssMm91jtgBcHyWixJz0KMQQtBItv8J9X1CTTfsmoaRex6hfRWEFxb3UjIZpBuwxKbhj6Vow/CG/8AEmtW2naLJawyrY2k8y3TzYaSUkfKUjbaMg9fQ1V0n4wazpMyPb2OlpHDNHPbQ/Y18uCSNdqugznJ75qDTfitrGl3XnCCyuCn2d41ubYOqSwMzRSLg5yNx4PBo7laWZDqnwx1jRPC8fiC6lsVsJNoEccrtKMybSudmzd14zmn2Pwt1bUdLt7q0vNNuZ5rJdSTToppRc+S0nlCTZs8vhge9Q3XxG1W60O50sRWsK3iqk88UISWVFd3Cs/cAkdQCc1cuPihex6Fp2nadbQ2Mlvp8dhNeKp86RVleUgHsCSKnqSL/wAKi1ZpH8vVNEeKFrmOa7W6lMUDQR7pEc+TuDHsy5FZ/hP4d6h4wi32uoaXa7r+PT4/t08iedK4yAm1GxkCpr/4nazfRugSztEkS48xLe3CB5J02SucfxEd+grN0HxdqPhuO3WyKp5OoQ6im4ZxLGrqPw6UAbV58L77TdFnvpLjTtQikA+zzWN04jRvtsdqQQ0XJDSD8xT7j4VX+irc3l1daVqGm6eLi4uVsrh1JjgmijljBaH7/wC8HPTketZn/CwNX/sWPS90P2ZXL/cPeeO4/wDQ4gamtviTqtvI5eO1nikNyJIZYMq63BjaUH/gUCkfUVorcqT3Kla3mal58Hta+wajq3maZa6dakl42uJX2r5McwXITuHxl8VUb4TatHdTWn9paM93CrvNZJdyGaBkgMzblZNu7anVcjNPm+LmuTXF7cGDT0u7qNovtEdqqskbRLEyKQfukKMZGRUX/C19a+3Q3n2ex+1Lu+0y/Zxm7zE0Ted/eyGPSpJL+k/DCa98NnJjXVbi4sTbOJHaPyp4ZJMFVQnI2VI3wD8TLqE9s82mRNDBBcPIZpCGSQFkYbYd4AwclwAMGqUPxe121ujJDHZwRlYUNutuDGUiiaBEHcLsYn1zSx/F7WIdQtLyOx0xZbKKGOzAs1xb+TuCFMtwwDH1BokTC+tziCCpweD6U2lZi7MxHNJQUFFFFABRRRQAUUUUAFFFFABRRRQAUUUUAFYFz/x8y/71b9YFz/x8SHsW4oAjooooAKKKKACiiigAooooAKKKKACiiigAooooAKKKKACnJI0f3GIptFAFt7e+js4rt45ltZWKRzshCOwOCA3QnIqASysMiRiOv64r3G5PhvUvAWgpqGn2l62leFXuYof7Qni33hvXX5gkg+bYd2OuOas3Xw18E2tvoMkmkeY0t6sFx9l1IqL9DZvJuj33BwPMCrk+X8xA60dWiTwUzSqATIwBOB9fSjzpC6IJWLv91e7fT16V9Br8N/h7Z3F/JPo82qSeZaodP02/CvawvFud3824RgQ3B3M+DXH/AA502zXR9ct7nSrd7lr/AEu5ivZ5jHcJbNI4Z1KSgcDlvTvQUeXRtPMZRG0jmIbpNoJ2DOMn054pYBdXU0cMIllmkbakcalmY+gA6mvb2TSJPDKolrZ6bDJpmq2099DK0kjt9vwhdWY5Pl/MuOq8jitK+8MeE/DPiDU/+Eb0q6sL6103U30+7uLsSpelYU8qSMfaJGGFLHOOoNESmrHgN1HeWMrQ3cVxZ3K43QzoUcZGRkHnkc1D50n/AD1au1+JAhl0DwLdytu1OfR83TZ5dRO6wsfcxhfwIrhqCSTzpP8Anq1HnSf89WqOigCTzpP+erUedJ/z1ao6KAJPOk/56tR50n/PVqjooAk86T/nq1HnSf8APVqjooAk86T/AJ6tR50n/PVqjooAk86T/nq1HnSf89WqOigCTz5P+erdM/5/OgzSgAmVgD0P+fpXq3gPwf4Y1j4d3V9f2K/2tGbqVr+4vnWKNUVdi4SUFScHAdHzXRyfCrwrpuoX08+l/bLOTWrqPT4INSBaewFozR4zMpcbyFAL5zx1o62CJ4MJZWkWMSMZGO0L3J9MfhSLcuwJWYkdeDX0FpPhvw9p+sXGk2mm2MVtbeI7AvewXsyTwwPaO0g3mfOFc7T6Hg81zQ8J6f4u8I6M1rodla38Xh6ye3a0u2iaS4F7smDqzfe8v5iOu3npQEtDyPzpf+ejf5GaVJJpHCI7s7EKFXkknoPryK901r4dfD+ykv78wrDYWuvNoRSG+kdVDToVugWY5CQlvxBrnvH2h+G/D/i7w4miaLeaKq6gUn+13CzRSosiASJ/pEuFwCcnjip5loB5dN9ot5ZI5TJHJGSro4IKkHBBHamedJkDzWyTgf5/EV734w8I+GdW8QazfyWVrdWkqahdT6+upskttdLNL5cKw79pDAKR6gjHWuX+LHg3w3oNnpEuh2C6ctxdyW81vJevPIyhU2yY811ZTjqDigDyzzpN23zWz6UNLKuzMjDeodc/xKehHqK+g9e+Gfg3Q9e1O2vvDcdhbWN5dx2tu2sXH+nwpZTSAsDMSv7xET/eYDqRXN2+l+EpvDVhqeo6TDqEzQ6dEllNqd0Fg824uBNtAmyNqrGeegZT3FUB5AJpG6SsecUefJ/z1b/Iz/KvcbLwX8P9S1Qu+m7EjOrRx6ba3sshvnhaEQ/NJOhUsHfbh0ztOOhol8G+AWvtLt/7GfT/ALdqN1C0d7qb+bCiW8TxxMUnZAHkLLuJ4wR2oA8NE8h6SseM/hSmaQDJlYCvddE+HPhC41K1hv8AQhDeTWUL3OmR6jI0VjMZ3Qs589ZHBQKWBZ9oIJrjPB3hXTL688TxnSrfX7uzuYIbOzOpPAkkLSusjiRGQkBQpyOxFAHnvnS/89G9P8/nUsMd3c+b5Iml8pd8mxSdi5xk46DPevctF+GPgy80F7i5soZJC6sL+LUmdUQ3qRmBj5q7j5YL5Cfd56VJ4d8H+FL6y8ViHTFsrQy6jaQmz1SVjCsMW+IyeZOAwduFyj7jwM0E3PAzcSKu4ykLnGc8f54pfPk4Hmtk9K+gPDXhfwtonj7SJE0HTbnSGkjW11S81NnOob7R2LOhf5QrkKfQ8dar6R4B+H76f4YguNIvZ2vUtDe6oL0R26StPtmhcG43ZC8/czjmgo8H86Tgea2SMj3oM8gxmVhnp/n8a9os/DXw/vvCFxqKeH7qe6kkvY5BZ6gfL04x/wCpJM1wCVb1ZHzWT8WvB/hrQbTSbjR7P+yEnu5LeaNrx7iRowq7ZSDLIrKcH5hxR2A8wxcmHzgZDDv8vzMHbuwTtz64BOPY0zzpOnmtmvo1fBnhGNZNEutOgsPDsuuNJayW+oNI+qxpZymMsWl+QFyFz6kDrXnlx4d8NXHxV0zTYtGutL0iW0kafTdQu1U+eIXdUZ0mkKq0gVSC+RkUAea+dLwPMbJGR/n8KfELmaN5I/MkjRd7OoJCrkDJPYZIH4ivc/Bfwz8L6tqwTWNBt7RGktYJdPt9VeSSy3qxeVma4XgE87t+KuaX4R0HT9C1e3sbezjtNR0myjl1y61Fi88r3UXmIybvl2qCSR0AOaCWfPvnS/8APVv8/wD6xSefIekrH/P/ANcV6v8AFjwP4b8OyeFRpNjJp32y8ltry3N0XZlWdFVuZZcBlBIPcciuo1H4X+FrfWGgn0KKwnivdSA0lNSmkkvrWJUEbjM+5WJHAVkzQUeCFbkQiY+YIS2wSbTtLYBxn15H5ij/AEnyfNzJ5Wdu/B25xnGfXBr6FvPB3hnzbjw7FHCdJt9WluU09rxi7r/Z8ThBIJQSTICuN/UEdav3ngPwtDDYaLb6Lb3WhSapaz3CzaqUfTEktUMr7ll+YKw2+x4oloTB817nzR50u1W8xtrDIPrR50pbHmNn0r2zRPBfgq/1oWi6NFqEFvpdtdzPHqE63F7NI2HIHnxou0dR271g2PgXR5Pib490e10sa/YaPaXc2nWv2to1fZcQxgl42TsxoKPMRNIc4lY460n2iQdZWr3y4+GvgNb8pb2kF3ZrdSR6jcNqLr/YyC2Rg0fzfvRvLLn1BFeeXmj+Hm8XeAtLt7JIbC7j0k6nMl3J/pBm8o3AYlvk2ktnPTB9KAicP5sozmRuOvtR50n/AD1avXF0XwLqNtBBH4dttPmnstUk+1rqdw5hkgVzAVDyHBYgYB65Fb+p/Cvwet94f06PT0t7nUr6XS2ulvZDG0jW26G5RfPkKp53GTxQVY8IhS6uFdohLIEXexRSdq5C5PtkgZ9SKj86Tn963HBr3bS/Afhy+1RYdKjkh0GNtVstXP8Aabr9o8iGIW0kgMucPICwx1wcZpsfw58FzWOgztpqW0sq7XSXUGzfSfYnkADCVgsbSBULDYwYgdaCTwszyBsGVgfT/P0NPk+0QlRIZELKHUMCMqehHtXt2g/C7w/4gm0eKXRINMn/ALWs01Wwi1l3ENmyuZSWaXggnnPSrmgeDfDXi7xFZrrNrDqdlFY6XaIkd0Uki3+aJZGbzYxtUBcntkZ60FW0bPAfPkxnzWx/n/A06N55pFjjd3duFVQSTzjgfU16xr3gfwxa/DGfU7KxW31a3jjL30987G4JncMIwsu0kKQdjJuxzWv4S8P+D9J0nwhqkOn3smrvJZTy60lyFghmF0gkjZDcdlBYgw9OaDO+h4g8k0bMGdlKnBDcYPoaTz5Of3rcYz7Z6fzFeg29v4duLnxnfavax3sq6lDBaytdSKIY5JHEsqqjDdtAU8dMiu+1bwF8PbfxEbC18MapJbILgRONRQxXijZ5ckafa8t04C7aCj5/W5dm2iYlumAef880vnSbQfNbBwAfXJwP1r3aPwn4auFk0c6Tpklpaa/eq08d7LmZVskeGMyNJkKZAVz03cda5tfB/ho/Ezwbpl5ZxWVtf26Saxpa3sjC3cs6sPOLMykqFJBbgkUBLQ8t86UZzI3BwaV5Jo9+93XYdrbuMH0Nel6lpvhC88EtdWnh+10vVX0e+vFlTUbiQw3ENy6RKqtIeWUKcHqCDXXeIfDHgZtcZJrSK7urw61I2qyatcPLCbdv3H/LTb8/b17VUU2rg9Fc8JdLqOGOVxKsUmQjspCtg4OD3wRio/PkzjzWznH419CX3w78MQXEiX1rJqGlRaxJDpNquq5L6f8AZXlxCDLtBaQhQSeW461nal8N/CljcXJstHtdVzPCtxa/2xNbf2fC0G9ix8zkh+Dv87B4rNO4Hh8AubqZIofMllc7VjjBZmPoAOpphmlXOZGGM/p1r6J8BeA/DWgeJrDXrdIYLVX0eSyunv8A/lo8W67wpfgK3Bz0PWsFfh94Vbwjo17Npw+2zXGmyXN1HfbEuYpX3TphpSEdF4ZgiAd8VXWxMXc8U86Xn963HX2/zg1GzF35Fd58XPDOj+GdW0uPRbNbCG4tWkNoZWd4XErqFdXll2HaQcB+lcHQUFFFFABRRRQAUUUUAFFFFABRRRQAUUUUAFFFFABRRRQAZorN+zXf/PxJ+lN+y3P/AD3b8qANXcdu3JxjbtycY3bsfSjcfl+ZmwQwVui49OeKyvstz/z3b8qPstz/AM92/KgDVViG3KzBsYPqV9Cc80AjnHcBWwMZ9B16Csr7Lc/892/Kj7Lc/wDPdvyoA1OWVlJO3n0x78Z71a0/U7rR76G8spmguIGzEy4OMjkYJ+6V4IrB+y3P/Pdvyo+y3P8Az3b8qAOi1jWLrXr43V7IskzLsG2NY0VR91QB0AqjWX9luf8Anu35UfZbn/nu35UAalFZf2W5/wCe7flR9luf+e7flQBqUVl/Zbn/AJ7t+VH2W5/57t+VAGpRWX9luf8Anu35UfZbn/nu35UAalFZf2W5/wCe7flR9luf+e7flQBqUVl/Zbn/AJ7t+VH2W5/57t+VAGpRWX9luf8Anu35UfZbn/nu35UAau7arABiO4OM/ocGhmZvvMx9Oen054rK+y3P/Pdvyo+y3P8Az3b8qANYNtYlSRuxuHfjuTnk0m9lUKCQACF/2VPYYNZX2W5/57t+VH2W5/57t+VAHQz61f3mmW+nTXk0ljbuZIrYnCJIeN4PUnHrVMsWYM2MgbVbG4r9Mmsr7Lc/892/Kj7Lc/8APdvyoA1GYsrBjn1GPl+uM8mnMzfLnd8n3Ojbfpk1k/Zbn/nu35UfZbn/AJ7t+VAG7qOq3usX019fXEl7eTN880znec/e9hmq247QuTgY2rk4H938qy/stz/z3b8qPstz/wA92/KgDVDNxgkMucYwCPUg56mg9QTjg7lBGSCepznrWV9luf8Anu35UfZbn/nu35UAa25lkLgsSwwWz85X0JzTVbGfvBiNrbcKT+INZf2W5/57t+VH2W5/57t+VAGpuKrtUnZnO1eF3euM0BiFKnOGOWXtuPUnB5rL+y3P/Pdvyo+y3P8Az3b8qANXn5P9j7q9h9OeKRdy/KpITOfYN/eAz1rL+y3P/Pdvyo+y3P8Az3b8qANTlVwCx3djjb/wIA80NkhB8xVRhQcNtX0GTWX9luf+e7flR9luf+e7flQBqh2YKMlVBDANztx6c8UhzuySc53bzg/1zWX9luf+e7flR9luf+e7flQBqlsMTljuxuKnDcepzzSbjt25O3+7/D69M+tZf2W5/wCe7flR9luf+e7flQBqiSSOVXR2BRwUZcAqR3HNSXd5cX15LdTytPcyO0jTyH5ix5YnnoT2FY32W5/57t+VH2W5/wCe7flQBrZO5Tu/H+L7u3Oc9aNx5+bqNrdfm+vNZP2W5/57t+VH2W5/57t+VAGpuK9DhsbenOPTIPSrFrf3Ni07W1xNCJ4vJlZX5eMlWZD35ZQc1h/Zbn/nu35UfZbn/nu35UAau77/ABt3/eVeh+vPNG7nOfoOc8fdwe2Kyvstz/z3b8qPstz/AM92/KgDVBK42sRtG0cnv9786uaTrN/4fvUu9NvZrO5RSiyxMd4B9M5AI7Gue+y3P/Pdvyo+y3P/AD3b8qANbe3PJXccsvbcepODzTWYnG7J2/dXsP8Ad54rL+y3P/Pdvyo+y3P/AD3b8qANUO24sGbc33sHB/E55pd23OCRnG5u5x24PSsn7Lc/892/Kj7Lc/8APdvyoA1QxZdvAP8AdYZH164zSFiq7c5TO7aowoPqBnrWX9luf+e7flR9luf+e7flQBqZLAgltpO5hn731p25s5y3TAG7kL6A54rJ+y3P/Pdvyo+y3P8Az3b8qANXd7bfnz8vdv7x560jHd2YfXB/XOay/stz/wA92/Kj7Lc/892/KgDU/wBntz8uTj1I+hNGWznczN83LOe/+Pesv7Lc/wDPdvyo+y3P/PdvyoA1tzberN0xuPTHpzxSb255PzfKzdyP9rnmsr7Lc/8APdvyo+y3P/PdvyoA1VYhUVWYKv3fRfoM0jMWUK2Si9F/hH0Gay/stz/z3b8qPstz/wA92/KgDVOWbczbm9wGP5k0lZf2W5/57t+VH2W5/wCe7flQBqUVl/Zbn/nu35UfZbn/AJ7t+VAGpRWX9luf+e7flR9luf8Anu35UAalFZf2W5/57t+VH2W5/wCe7flQBqUVl/Zbn/nu35UfZbn/AJ7t+VAGpRWX9luf+e7flR9luf8Anu35UAalFZf2W5/57t+VH2W5/wCe7flQBqUVl/Zbn/nu35UfZbn/AJ7t+VAGpRWX9luf+e7flR9luf8Anu35UAalG0etHO0HseAf1/pS7Thjg4U4Ptzj+YP5UAJtHrRtHrQeOTwM4oHzZA5Izn8OtABtHrRtHrR0XJ6YzmjB4469KADaPWjaPWjOcAc55H5Zo/u/7QyPf/OR+dABtHrRtHrR6e+Mfj0oPGc8YAJ+h6GgA2j1o2j1oz/PH4+lKFLKCBkcnP060AJtHrRtHrR6jvnFHbPbrQAbR60bR60u09MHrikHzZxzgZPsPWgA2j1o2j1o6UH5cZ4yMj/P4igA2j1o2j1o6gEcgjcPp6/oaPT36e9ABtHrRtHrR6juOT/n8RQPmBI5A60AG0etG0etHp70YO4rj5lGSvcUAG0etG0etHcDuen+fwNHqPbNABtHrRtHrR/n/P5ijI9aADaPWjaPWj19jg/5/EUZ79v8/wCBoANo9aNo9aM4YA8E5IH04NHr7dfagA2j1o2j1oo9PfkUAG0etG0etKQV4IwcZpPftnH4+lABtHrRtHrR79qPT3GR7jpQAbR60bR60e3tn86CduM8ZOB70AG0etG0etHp79Pej09+lABtHrRtHrR1OB1xnHtnH9KPftQAbR60bR60dgexOAaTcME54UZPt2/qKAF2j1o2j1qL7XB/z2j9fvCj7VB/z2j/AO+hQBLtHrRtHrUTXUK9Zox35YU5biN2CrIrNnG0MM/55oAftHrRtHrQQVYqRhlzkdxjrSbgOpx/nNAC7R60bR60fw57c8/Tr/OjB4469P8AP4GgA2j1o2j1o/u/7QyPcf5NA+YEjkA4NABtHrRtHrRzzQeOTwMhfxPQUAG0etG0etGf8/iR/Q/kaPU9hjP49KADaPWjaPWj/wCsPz6fzo9KADaPWjaPWj37dP6/1FBO0ZPA55+nWgA2j1o2j1pNw4568D3oyD0OaAF2j1o2j1o9KP8A9dABtHrRtHrQflbaeGyBjvycCjsD2IyKADaPWjaPWjoMngev+fpRkbc549aADaPWjaPWj37Udgex6UAG0etG0etIzBVJJwPU+9R/aoc482PPX7woAl2j1o2j1qL7VDnHmx5/3h/ntS/aoef3qev3hQBJtHrRtHrUX2qEKT50eB1O4dqPtUJBIljIH+0KAJdo9aNo9aYsySfddW+hzT6ADaPWjaPWiigA2j1o2j1oooANo9aNo9aKKADaPWjaPWiigD0T4I6Lp+u+Itfj1Gyt9QWPQL+VUuIw4V0gdlYe4yKxfAXhPTPETavqGtX82naNo9ot3cvaRCSdwziOOOPPqz9ah8BeNrjwHrEuoQ2VtqAuLWWzmt7nd5bxypsP3WUg4rXtPihb6TfSvpXhTSbCwvLZrW/07dNLFexEqwV98hwVZQQRQEbdTq9J+CWi6prWnSW2uXcuianpkmoafassMeoXTpJ5T2y7yEMmeQRXBePvCdn4W8YHSLe7ultSImDapavbS24PaRcZBX+8vBrWm+L93eXaLcaJpE+iJYf2ZFokkJW3hhzuwjA7gxbktWH4w8eaj4w8SQ6zcR28EtrFFBaQRLmOGOL7i/NuJI9T1o7B3PWpvgXouh+KPCkFtf6jdi71i1sxd31lFcWWoJJ/y8QspaPH/TNzmsnTfg/4ZbUNCg8Raxf2d94m1WS009NNtIXhjQXPkh5Qx655xWNH8eNRs5rZ9M0TSNJ26nBq1zHaQuqXVxF0ZkL7VX/ZU11vwt+Juiww6RqPii90eeTRtVm1CO1vrK4lurdDJ5221ZW2Hc3988VUbXA4bSfhnban4m8AaW15cKniW7uredgOYRFfT242+vyxr+YrqfAn7PK+KvBOk6pPdXkFzrVnJe280XkCzgQEhBMHk3tvKY46Vz/hr42T+F5NPaPw7o+pT6Xd3Nzp13qELNLa+dI0rgYfnDsSKxbP4kNH4d0zSr/QdI1iXS4ZINNvr6FjLaxuG+UbSFOGYkZona+hppY6cfC7ws2lRQDWtVPiWTwuPEgh+zx/Zl2wee8LPnc3AwMV12rfB7w14y1zwZpvhtNQ01X8NDWL1pEiJkiXlmHPMzH+LoK8kX4iX6ahFdeTDuTw+fDnQ/8AHsYXh3f72DWva/GjVbNtCcafpss+lWJ0qRpYi3220P8AywlGdpH+0DWetgmoO1js7j9nvTbfxLYW0ur3ltb3unyXUOlTPb/2o80bY+yqfM8ksR0wcmvOPFngWPSviDF4e057w+fJAI/7Utvs9xE8oyqOvcgfxDg0+D4hWlnfDyPCOgR6R9kNm2mGF3RgW3b/ADSfNEm7jcGxis/xV44v/FXiOHWmSPT7iCOGG1itchYEiXbHgtuOfUmqEdzefCXwvd+Jk8KaL4nuf+Eki1NNLlj1O2CQXDF9ryQbP4U/uvyat+Gvg74V8e3mnnwxrmpS2KaxbaZqBvraOOXbN924iIP6VzmpfGjUru9XUrLS9L0fW3vY9QutTtLb99czoPlc7t2AW5YCrMPx01DT76wm0nRNK0SGDU11i4trCN1ju7hOjPuZjtHZRRG/Ug2ZvhX8P7bRZtaOveIDp9jqjaLcw/YYPOlmxnzYznhMdjzV3Rf2dba68Xa3o19d6vqA0/VE02GfTLSNVTIz57yTOF6f8s1ya83m+IF/N4dv9GMUH2W71X+2HbHIm27cD2rrJP2gtUur++utR0PR9W8/UxrFvDdRtstbkLt3x4IOP9lqANKw+DHhzS0hi8R61qqXk3iG40CE6Zbxld0fl/vTuPT5/wBal8H/AAw8P+FfE/h+bxNqd8bu68RS2FjDp1rG0b/ZblY5Hm3HlWwRXGa18WdT126t7ia1tI5INbm10BQcefJtyPp+7X8xV/SfjbeWN01xe6Fo+syR6vNrVkb+At9iuJZN77MH7u7nBqtDO0r36HRav8OfC1x4mkk13WL/AE++8Sa1ewabBp9rG8cKpdPEJZ8nkeYR8o7UuifAGwl0fVG1DVb6bU7O8ubK6j0a3juo7BouBJcRAmV1I6EDFc5Y/G2/t5EkutG0nVZra/m1LT5LqJ82M8sm59mGXKiT5gD9ai0H41aros0V7Jp+n3+u2s01xaa1cRH7RFJJ95mClVkHoDWVOLjHXc2drlX4Y+BNL8Y3XiJtYvbqws9I0yXUWksYlZ2VHRSMN611+g/AXTvGF9BqWiajqF94Yk019SKvDEl9ujuPsxt/mk2bjLzu6Yrnvg74203wjJ4xuNVSG5N9ok1rFa3aF4rmRpEODjkcZqJvjRqH26FF0jTF0CPTv7JOgmNzatbl97Kx3lixk+bcKuJPc6DU/g14e8L6rrza7q2qRaPYaTa6ki20MD3Y8+58jyZADtyCQaXTvhT4Ju47CyufEOs2upXHhyPxEzfY4XtoIvI8+RAAcs23oK4LUPHJuLXW7Oz0ew0iw1K1trJraxRgI0hmSZCCxJJJBzUq/ES/S+guhDD5kXh//hHAMHH2b7P5O7/exVStpY0g463O90v4W6JNbx6tol1NdaPqXh7VLuGPWrOF5o5bfeGXABUDBGDW1qfwb8N+NvEnhmw8ORajYW6eGY9Y1DzVgEkyDugztEz92JwK800b4tapoOg2el21vavDa2V9YKWQ58u6/wBYfqKs2Pxm1SzbRWGn6fI+n6d/ZE/mxFkvrM9IZlzg4/vA1KvZ3MZRfMrHbXv7Puh6Q+o3mp6tqllp1ro/9rG2CW8l7Ey3KRGGTYShyK4L4g+CtJ8F+INEaC8vr3QNUsLfUomkjVbsRydVJ6Zpg+Jz2tnqljpWh6To2n3+mjSzbWkb4SMSpKWyxJJJBrH8V+L7vxdHo63ccUf9l2EenxeSCMxp0P1qSj2nxT8EdC8TfE7xJb6Bb6pZ6JodlazXVnai3LySSqmyODeVVffJrItP2ftMXxZrGm3Op6neNbWttd2unaaIP7Rmjm3lwVaTaxiJG/HWuTvfjRe6nrF1e32i6XeQ6hp8WnanaSI/lXqx7NsjAOCGHPSqen/E6Kxur7/ik9Cm064MLR6aIXjjgMP3CjqQ2fXPBoiB0954H8MWvw716ytP7Wv/ABLD4mttKtbuS3FpHI0kMxiR4nwyIVUEg85rS8d/s5weEdJuWGoXyXNhdwWs8l1DFJDc+bJ5Re3jikMgIPJBHFcLqnxa1XXYfEn9o2tncXOtX8Wp/aApV7S5jDbZI8cDCsRg1Y1P4wXl9qqazBoej2PiP7XBezazBATLPLEdwbYx2qC3JFVEpndal+zbYw3Hh9o7rWLG1vdei0O4/tKKBZD5nSaNVLEAf3JMGvPB4Q0TWvidp3hvQb6+uNNubyOye6v41SXeZNrkKvOPSt9v2gL2Nrb7B4d0fSlh1iPXGNrHJmS5Tu2XPHsK880/xBd6Z4kt9atyEvIboXqHPAcPvx9M1WhjqeyzeED8ULzxhb6fHaWf2XX7HQNNia1T/RofMmiVQ4O5QCoJxkmsb4rfA+2+Hvhp9Wtru+/0W8+xTRaosKmcH/ltCI5G+Tjo+Kz9e+KzaTqmtS+F5Wgt9YvrbW97LiW0uELN5QPcbmJzUNr8TtBvvEUF/q/gzSY7Z7mS/vo9PgPmX05jdV3F22qu4g4FSaGb8MvB+jeKF8R3euX97p+naNpv25m09Fkdz50ceMN/vV38P7N1u/hdNRlvNShkvbF9XgmkS2W0ih+dkjmBk3tM6hRuHAYgda8k0XxVc6Dp/iG0t4ojDrdn9inyDlE81XyPf5RWy/xKa80Gzs9Q0HSdTv7G0On2mrXUTNcQQH+EjO18djVaWJje77HoPiT4Z+EtbuPDU2ltqWk6LbeFI9b1WZ44nkkQ9CgB5mbu3QVQ0X4M+G9amg1dNa1WLwndaTeagHlt42vIpLZ9skbLnafbFcxb/GLUoP7FLafp8h0/TX0WcSIxW/s2/wCWUwHXHZhRJ8YdRjzb2enWOn6Yulz6RBp9ur+XBHK26R/mZizGsnzcum5ppodlovwZ8G64vhSFdd1uG+8VfaY7BHgiZI/Kk2oZSD371F4L/Z7i8YeGFuY59Wj1Ka3uLiO6+yxpZAx5zExdxLKWwfnUYGDXGaT8WtV0W48HTw29uzeFmk+x5H3977zu/GtnRfj9qWk2+nl9C0W+1HT7Waxt7+5hfzlgk3ZQbTtz8x+Y1ZJs2fwV8OX2n6TZLreqrr+peHf7fgj+zx/ZIysbyFDzk5wfyrzHRfD8Oq+GvFepSTMkmj29rNEoH+t828jhO704et+z+L+q2Wq6Rex21qZNN0U6FEChwYCjJuPvhjWR4L8aP4RbU420yx1ix1O3Fvd2N+rmN1WRXQ/Ky4IZQaI2uETs9I+Ffh5dG1DWtZ1XU47K00LSdVK2KI0krXa/MmW4wOxrhvjR4Og8C6teWFreSXdhJaW97bTTLiQRSxpIAw9eDW74g+LuoeILXW7ZtN0+yttVsbGwkis0ZRFHa/d25rl/iH4nvvHrLcXEcMc8VjBYp5QIBSJNgJ98VjafNfoVK3QsN8DLbWvAvhHU9I1ext9a1PTru7fTLuZ/Pu3gkkLCLam1AsScZ6kVlzfAPXk0mR0vdOu9Yt7SK9uvDsMrm7t4pcBGIKeWzAMuQDxketWrD4ja5pvhvTLCPQtObVdLs7jT7DWHLmeCCYsZQqh9gOJGAJ9DVi8+LPiq409/s+mWNnr9xbW9lfeIIi32u6hh2+WrfNtyfLXcR7VoZmJ4o+D914FsbjVLq/0vXbbS71LTVrPTbiUSWkjE/u3YoufmBG9MjINM+LHh3SfCPjLTI9DimtLK40zTtQWN5mk8t57ZJTyeozWx4l+I2q+JoLmCfw1pdpBqF+upaxHZyTR/2pOobBc+Z8o3MTgVR+IXiO4+I+raTdt4esdDmtIobQSW1zO4MMaJHHkSSPyADTKO++LNhDcaZ4Q8UxRpDPr+mGa7WNcKbiGSSKRwOwYrnFd74R8C+GvCMnizSnv9Qv8AxVbeFbi4uY2tYvsaGWGOXCE/NlQ2M15b8RfFFrrjaPpOmM76RoVitjbyyDDTHLNNKR6szEgd62k+OF8thco2g6MdVu9NbSLjWvIP2ma32KuD2B2qBmpqR5oSS3Bbo7B/grpGreKrq2kupRJb6Rp11Fpeh21vBd3rSQozlFZlVtnfFUJvAvhLR/hv4yWZdSvtW0/XbKyt7yS0WA7ZEcxq8b4ZTn72a5ib4yXeoahPLqeh6ZqsE9ta2zW9xGyFTboiROsqOrhsA57GotS+MWra5/wk/wDaVrZX39u3EN06tGVFvNFuEbR49jzmtY7ku9keg+KPg/4S0vWdWuda1TULSNvEbaNFb6NZQovKIwfaQqjHpms7xN8PfDPhn4X61azLfXPiOw8Tf2WdRSKPY2EwF2Zztx265rkPFPxl1fxUztdW1opbWv7b+VD/AK7ai4+nBpdQ+Mepanb67FcafYudU1Zdajl2PvtLr+8nzYx7GspRdtCup0vjD4D2Hh3w/b6lHf6lp8Mep2um3NxrEEUSFZnKm4jVX3xqmDlZQCMHNY3xZ+Fum/D+1s57G51dvNme2X+0bZBBOoGfOgmiyrIR/wAswdwpmvfGy61q1vI4fDuh6bLd6nb6tc3FtbEtPcRMzBmVjgKdxyorI8XfEibxNocejW+kafoOm/azqElvp/mbZbgrt3Es7FV/2RWrsBp2Xgbwla6Ho7+IPEN7pur6xp51C0kjgU2dtHvdF88/ecu0bE46bx61taf8Eba/+G134hE+sR3MGkS6x9pe2ijsiEj3mFQX85mIBIlA2n1rmdL+K11puhWNjLoulalfaZDLaafqd3EWmtYnLbgvY4ZiVzVyL4zXS+H206XQNGmun0R/D7aq0T/ahaGJ02jB2buR81T3A6S6+C/hqPxBpOiQajr11qs+lx6td29pZxOfLkiQ+WjZUKSSPnkwBmqviD4L6R4W8Q3h1XUtSstAtNEttalT7PFJe7Z7g28UAKOU3eaCS2cYBrnY/i9qH/CTPq1xp1hepNpCaFcWVwr+VNaqqqMleQ3yjkVNdfGa6udUW4OgaMunNpK6LNpSQsLaa1WZpVBGdwZXYkGiO2pR1vh/wl8O18G+PrqK71PXfs+m29zazLHEk1kzzIrIef8AWBiBn0NN8Tfs7P4b8FahqMlzfLrGn6ampSTSGAWc2RHJ9mQmTzQ4V/vY5rj4/i9cxS61H/YelDSdS09NNfS44njgSKMq0ZXDZ3KygknrVTX/AIkHxNo7wajoOkzazJZpYSa60TfamiQKqjAOzJVQCano+5K3R6JN8P8AQvBmteNIPD2s391qugaLcTTXN5aRFQx8sAR55GA/XFUvEHwb8NeGdE0/VZNU1rUrU/ZnfUbGCOWyvFf7ywSrnYy9hJjNcXP8VdSm1zxdqZgg+0eJLU2t2MfKoO37v/fIqzqnxevdQ0HUdPttH0rS5tSEI1C6s4SjXSx8rmPOxTnrtqgla+mx6Z48+Feh6j4k+Ilh4ZtBZNa3+n2cUN5awuBNNNsPluBuVcetcPrXw38IW+rPomm+JtQOt2eox2FylxZbluCfvy2yR5LKn9xuTVPWPjhrGrtrk0dlY6feaybWS6uLVGBMtu+9JQD0JPUVJJ8dNUj1eHV7DRtI0rWPt0epXV/bW2ZLqdOctudgAT1AoJ6HUeIf2e9N0d/Dcx1W+8P6bqWpvpdzJrogV4m2b/M/dyFArH+FyCK4z4s/Dqy8A3FitqdYgNyJBJa6xbIkqlP4kkT93IvupNXb7453b2un2ll4a0HTbWy1BtSEEVsZI5JGXbIH3liQ3bHSud8YePpvFOl6XpcOn2mkaPppka20+z8xkDSfeJaR2YgdhQaaHqngH4feHPCOtWtvqV9eXXie58O3epfZVtozYhZbF3jXJO7zFXnPrWYP2czb+B49UuLq/j1htGXWBI/kCzKmPzRbcyeb5hHAOK57S/jlqOn6fbJLo2l3up2+nSaSmrTo/wBpNs8bptJ3YyFOAax7z4kHUvD8Vje6DpN3qMGn/wBlRaxNE32lbcDaqYB2kheN1U9jFRfMQaZ4Ph1L4b634le5lS606/tbNLcY2t5u/JJ/BfzFeiat8FfCnhe31jUNa1rWBaWF3YWqCxiiaSU3Ft5ucscDBrz3wX8RJ/COlanpU+l2Ou6RfvFJJZX6vsEkXQjaymtLxf8AGXV/GtvqsF3aWVuuo3dtfSrApAVoIvKVR+FZpSuaHJ/GjwePAPiTX9AS6a9Syl8pbjGDIjDcpI7HkVgXnwlvdN+H2n+LL/U7G2tNR+a0szHcPLL8+376RmFG/wBktmtv4meJL74ia1qms3McMV/fFGdYQQvCqvH5VXsfGWqaX4B1Dwxp2gWdouo2y2t9dm6nc3EYbcT5LSeUrH1VaroHVFn4hfB/RPC+n+E20nxjpmq3erWMEps41uFLtLO8YkTMKqEGDwTniqHir4Ky+C7mNdQ8UaBNFFqb6VezWs8sgsJFXkyYTcwyMfIDzReeJ7/UNF8P21x4esH1LQlhhs9WEsqzrDHK0ojKCTYeWPNY99Jd6x42v/EWpaNb35vr6a+uLFpmSKRpGdmXcrgjrwcUdQOj1z4OrdfFLxToOmXum6Np+j2Yv5Li9u3lhS32RNxL5SuSfNXt/EPWkt/2f9YfxBqFlPq+lWtlYw2lwNYZ5ngmS6GbcoqIZQGAyTjipvFfxA1TxNrOs6jb+HdP0mbWNJOkXgt5ZWDx5hKt88hwQIFFej/C34xR2llrQ12U6Jqc1rpljbXEIujE0NojrlmtpUkDHPpVAeMXXhiTwN481rw7NfW9/dabLJbSzWZbyjIpwcBu2eKv1oSXWkaZ8R9c1PRtH+0eHZxItrZ6vI0jDcPvsQ2S27ms+s0EgoooqgCiiigAooooAKKKKACiiigA6dfXFFdrb/BvxNdaBb6usNikNxYvqFvZPfxi+nt0+9IkGd7L/tAYrmV8P6o32fGm3h+0KWhxA/70AZJXjkAAnjtQBQorRuvDurWMLS3Ol3lvEriMvLbuqhj0XJHU+lSf8Ijrf2r7L/ZF/wDadgk8n7M+/aSAGxjOMkDPqRQBldODwf8A6+KK63wP8Mde8da5JptlbtbvEkrzT3KSKkbRx7yjEDAJJHBrnJtKvbezjvJbO4itJDhLh4mEbfRiMGgCrRRRQAUUUUAFFFFABRRRQAUUUUAFHTOeMdaK2vB/hDVPHWvQ6RpCQteSRSShp51iiAjj3sWY8AYBP0oAxtp64pK29Q8G6hp80axNaassriNbnRp1u4fMIyI9yEjcRzt64qnceHdUtbMXc2n3cNpkDz5IGWPJ6DcRigCh16c0VuweCtZuF1BpLVrL7DafbXivG8l3jzt/dhsFzyOlVP8AhF9Y86OH+zL3zpE8xI/s77mT+8Bjkc9aAM2k3A5wc461oDw/qjfagNNvCbQ4uP3D/uTjOH4+Xg557V1Pij4P694Ws47iWS1vImgs5gsM5M3+kx7owqHluhzigDhz8vXjvR1OByeldl4g+EviPw7a6FNLaSXMmr27XaW1rHIZYVEmza64yORjmq/hD4c6z41h1S4tIWitdOsri+luZ1k8tvKODGGxjfn+HrQBytFFFABRRRQAUUUUAFFFFABRRRQAUUUUAFFFFABRRRQAUUUUAFFFFABRRRQAUUUUAFFFFABRRRQAUUUUAFFFFABRRRQAUUUUAFFFFABRRRQAUUUUAFFFFABRRRQAUUUUAFFFFABRRRQAUUUUAFFFFABRRRQAUUUUAFFFFABRminrZ3N1n7MYv+2xY0AerXvxI8Ha5oHh86rpuuPrmiaGNHit7eSNLKcp/q5ZJN/m/VQOa9Itf2tPD1jqhu/7O8Q3SS3AuVtZVg8rSsWbweXZ4l6FyGO6vmL+y9Q67rTGcdWo/svUBkFrTI68tQB7nL+0qmrWsdnrP9valY/2RpVk8DTqM3Vte+fPNuEn8cXyZ711Xif9rTQtQ0m5g0ex16x1CSyuLVLvyYYCC9xFLGcrcN90Aj8DXzF/Zeo5xutM+mWpf7J1Hnm1468vVNk20t2PqOT9rXw1Pq11dnT/ABLYRSXN5L5FqtsUvBPapDi4/fZ+VwW4rh/iL8etI8YfD2+0O2ttXW6uotORLe7ERs9P+zfeNuQxfL9814p/ZOpcc2vPT7/NJ/Zeof3rT82qSiOipDpeojGWtB+LUv8AZeo/3rXpnq3SgCKipV0nUWOAbUn0BehtK1FTgm1B9CW+tAEVFSf2XqH960/NqX+ytR9bX82oAioqX+ytR9bX82o/srUfW1/NqAIqKl/srUfW1/NqP7K1H1tfzagCKuy+EXjyH4a+NodfminnWG2u4UEKo7hpYHjH38AjmuS/srUfW1/NqP7J1H1tfzb0z/UfnST5RNXR7f8AC/8AaE03Q7aA+LrbUrm+t9Zh1eO40a1tkWTy4tpRlymM10K/tXaSuYm0rWL2yWws7aOyuTF5Xnw3PmySEeb/ABJ8ua+b/wCydSGMm1H4vSf2ZqGcbrTP1b2/xH50xvV3PoWX9pXRI77Wp2h8S+Io7+2mjSHXPsxSN3uEm8oYcnYFG0H2xVvW/wBqrTJND8SW2mJ4lk1PUYtTay1K/aES2Mtzs8qGN1kyIUx3HFfOH9k6l62v5vSf2XqHB3WmPq1EQPp7w5+1b4U0zUrvUL3Rtemu7pLf7TJ5UMpnZLNIHJDXAAy43VT0H9qjw7pD2Dy6Jqty8MWlo4ZIQP8ARbd4pMfP3JBHrXzd/ZOo7Qc2uD0OXo/srUQpJa1AHU5aglxPp/Sv2rPCun3Gmyz23irU5rGyjtReXiQmRit00rlkFxtOQQOKy9S/aY8N3mm6xDb2fiHTVudM1TTYdMto4BYt9pm3xzSATbiyrxgV86f2TqPPNr+bUHSdRXkm1A+r0dGiiKipf7J1EdTajt1aj+ytR9bXrjq1AEVFS/2TqPra/m9H9laj62v5tQBFRUn9l6j/AHrT82pf7K1HAObXB6ctQBFRUv8AZOpYzm1xx/f7jIo/snUj0Nr/AOP0ARUVKdJ1EDJNqB9WoGk6ixIBtSR1GW47UARUVL/ZWojGWteenLUn9l6hjO60x65agCOipTpOoquSbUD1y9H9k6j1za4+r0ARUVKNJ1Fs4Nqe/V/TNJ/Zeoc/NacHB5agCOipP7L1D+9adcdWo/svUc43Wmfq1AEdFS/2VqI72v5tSHS9RHVrQfi1AEdFS/2VqPra/m1H9laj62v5tQBFRUv9laj62v5tR/ZWo+tr+bUARUVL/ZWo+tr+bUf2VqPra/m1AEVFS/2VqPra/m1H9laj62v5tQBFRUv9laj62v5tR/ZWo+tr+bUARUVL/ZWo+tr+bUf2VqPra/m1AEVFS/2VqPra/m1H9laj62v5tQBFRUv9laj62v5tR/ZWo+tr+bUARUVL/ZWo+tr+bUf2VqPra/m1AEVFS/2VqPra/m1H9laj62v5tQBECCMjkUVI2m6hHlneDYOys1R0AFFFFABRRRQAUUUUAFFFFABRRRQAUUUUAFFFFABRRRQAUUUUAFFFFABWpo/3Zay61NG+5JQA3wjpfiHxtq2u/YxLHpmkxSXE8tvYyTsqrJtCqFBy3I4rPutN8eWOn2moPpjx6fdCJreaXy13xuSI5GQvmNSQRubjg1Da2OsaPL4lW0ht5otZge1keRuQjOjhgMjkEVct73Xo9c8N6jJYWNx/YtlBYR20h/dTRxBsFxnruYmgO5Smt/HNvFfPLYrFDZpG88ztCItsgJj2PnEpYAldpOQDiqup3Xi3SdKt9SvbJYtPnIEUhjjYKWXfGGUHKbl+Ybuo5Fdrc+PPEt5eXl0+kWG6ewTTxC9zI8YVEZELxsxVyoY4JrP8QeJfEvia20qLUbK1ufsr273CG4cw3fkLsTfEWxynHFAHP6Rfa1q/h/XdVWaGOHS1id0SKNt2+TZuKZyFycZ6ZpbyTxjZ3Vrb3VtDaXFxH58azywJtUqG/eZP7r5SD82OCDWppN1f6VY+KLaLw/pu3XgVZVmkjFsglSVVjw3qO9a9t4w1+3fSFOh6Xcw6dBNAPtlxJK7iSJYhh2Ysu0KMYzQHcxLi18QafoOvXl9MlnqukXVvb3WmTW20/vm+Qhh2KkEeoqPXNH+IPhtbk6nor2gtUeacv5TeUE27w20/Ky+YmVPI3rnqK3Ne8Va14kXxMb7QNNe416SCWeZZ2GwwqipgfhViXx54mvF1WK90jTLy01S6vLq5tmkZUY3PklkyrghQYFoAxdR8H/E3StKur+88OTwWNqkjySmKIhNu/OFByceXJ/3w3oali0nV18aWnhOTV7WDWbi2UmFrYbFvGjDpaFvXkKX6ZIFdVq/xk8b6xZarbSadpUUeoxSQy+XnC7/tOSB/28GsB737V8TLPxncadLJeRRR3c9sHQRSajGqhXHP+qLKHI/CgDE8I61e6t9riusJLAcEEYIPpXQ1z/hjSbzT2vZbxkMlw+87DW/mgBaKTNGaAFopM0ZoAWruhaHc+ItYt9MsxCbqZZGQ3UgjiUJGZJCzHgAKlUc1f0PWJdB1RL+3CtKscsWG6YliaI/oxqo2vqB1Nr8FfFdxZ2t0lna/Zbgx+XI1yuCshxGQc8hiRtPfPFQ2vwz1q50+zU2siX2o3EMVpGbhQuJFlYb16rlYc89uajufiNeXGk6bA1tCLywiit4bxJpQ6xxNujXZu8skbRzt71NqHxW1LVdbutSubazZrm+gv3hCMIt0UUkQRQOVGJTUxKjbqR6f8JvEOp6sdMtV0+S9VI28sXqEtvz0Ge2D+Rqj4d8A6z4om1FbGOH/AIl7otw91MsarkkdT05B/I11Vn8d9UtdQW4/s2zkjie2khjmmuGKtBu2Fn3+ZIPmOQ7Nmuf8LfEO58LazealHZ291NcXCXSmR5IzFKjMykNGwJHzHIIoJJrf4ePqHiDwvpJn/s+XWokY3F0UlVWaTZvG0+oxj2pk/wALtahknELWdwVWaWJEukFxPFE7KXSPOWU7H5Ax8rehqvN8QL+bWtA1IxQLcaMEWFVHynbK7j+daDfFS7R2ubfS7GDUY4p7e1vV3+ZbQysWeNMtg/ekwT/eo636AX2+Dl8nhia4eW1fV49TazZEvozFbxpAZJDK2cJtwd27GMHNZ1r8HvE15EZIY9Pa3CRuLv7anktvJHD5wcFWHXqD6Vek+M15tuFi0XTIhf3cl3qS7XIvHkiaKQN83AIY9KbpPxgutHuLU2mkWEFtZIiWNurzKLfaW6sJA0mWkYt5jNnBxQBn+EvAr+KPDOsXNoWbUrW7toIE3hYwJBIWZiegATk+1Ft8JPEmojzLaPT5bfyDN9qjvUaHb5m1vmBxkd/Sq/hX4ial4PjuUs47eRri5iuHaZcglFZSMeh8xvyNaOm/FifR57RbTRbG106yjC21nDJMpjbfv3iZZBIWJ65bFAdzB0/wVqWqS6mkJtIk0tlS6mubpI4Y2Mm0AOTgk/WtSP4T+I5rG+u4orOe2sXZLlY7pWdcPt5APFVrLx9PDda497Y2upWesNvu9PkVkiZg+9SNjDGDW1D8ZtRj0u4tf7MsFlktpbMSo0iKkMknmFAgbYQG4BK5xU9AKcfwd8SXF3qNpB/Zl3caeZFukt76N2QopJBAPGCD+RqTw/8ACHVta1axs5rzT9OS5aMOxuVeaASx7lLIDlfxqxovxm1HR7q9nGn2k8s97d3yZaRPIkud3m4CMFYfMcAniqdv8ULi1v8ATb6PS9PGo2sltLLd7X33BhTYg+9hAR12bapgTWvwn1i48IjVItPFy08kRhuIblPL8h5fK3bdvRn79hTV+C3iu4jvHgtLW5SzaRHa3ulcO0a5cKQeTmoIviXPb2OnW8Wm20b6eY0tJVln/dQpL5ojCeZt69zTU+JF02lzWFzZ21xH9oubu3PmTR/ZZJvvlVRgrY7AmiQFHxJ4D1nwhbw3GqJbQiZsIIblXdRjdkrnir918JfElndW9rNBaLNMskgX7UuIo1i8wvIc/Ko65PFQeJviFd+J9FtdLktbe1ggk8/900m4ybduQGZlQeyFa1P+FxaikVtGmn2UdtH5n2i3VpDHc74vKdRlt0asP7m3FAFW3+D3iO6VHRdORZpYLeGR71Ak7yrlBGc4Y59KzPDPgXV/GWoTafpy273sLqrw3E6xs2Tg4BOTzxWvcfFjUZoNOtktLaCx069tbu1tUaQpGbf7ifMxJB7mq/hL4kXfhO4vJFsrW+W6uo73bM0iBJkk3I2UYHA/u96kDai+GdnZ6be3d+wWex0Rb6e0muRGTcNfPbBQ21hgFQPqcVlN8HvEq29rctHp4tLhZHjujep5IWKLzGJfOMbRnOenNQaz8StR1pb9ZoLcC8thatgfwi7e7/8AQiK1da+NWo61pl1aNptla/avtL3MkLSszvNC8LvhpCBgHhRVdipW6GO/wv8AEUd7a2n2e2eS5mgtoGS5Uxu06GSJt2cFdoIJ9jUlp8LtdvNJj1HzNLjga2ius3GpLG6xSMFRmUnjJIAz1JArR0v4yX2myWLSaXY3v9n/AGN7bzDIuyS3RkR/lYZ4Y5FYUvjq8k0uSw8uLymsLXT84OdlvKrofqdozRoT0N63+DviFdL12a50ySS5s/MiVRcqMNF/rWP972xVe5+EOt27SWEkVtLqsV6LeTyb1GiiAt5ZW3sDhcCMk56AE0/VPi9qGtW93He2MEhllnngaOaaP7KZvvqqpIFIHbJqL/hbOqf2tfX3kWm+9v8A+0Jk2ny5GMMkTRY6hSkpGaI9AK9v8K9dmWJlbSxHLJFFDcPfxiOZ36KrZwxHoKg1b4b69oehrq15Db21o3RWuF80/vNv3Sc1ct/iUlsq248PaS2n280dxaWpWXbBJH9192/c+e4YU2++KGoal4dvdJltLbfef8fN0Gk3ON+/O0t5YOe4Xd7UdAOOopM0ZoAWikzRmgBaKTNGaAFopM0ZoAWikzRmgBaKTNGaAFopM0ZoAWikzRmgBaKTNGaAFopM0ZoAjuv+PeX/AHWrBreuj/o8n+61YNABRRRQAUUUUAFFFFABRRRQAUUUUAFFFFABRRRQAUUUUAFFFFABRRRQAVLDdPArbDioqKALP9pTZx5gzjP4Uf2nN/z0H+f/ANRpvw38O6Frk3jO+1qcsdKsJLmC1MDNE5MqIGfa4zgFuB6GmH4X2U114asbXXbqfWtetba/hsItOxHDHKz5Xc0vJHf0oAlOqSjrKo6/p1/Kj+05uB5gyelaWpfAN7G61G1TxE81zDYwXtrbi1VZLhGidyNxm2IVIX7pOcisbxl8JH8J6Ppk0euLqmsXxtgNKgiJZzPFuHlsrs0nzccjrQBP/ac2M+YMf4f/AK6U6lOrYMgB9MVleGPCLXPhTx1c3ltLFqWjRQt5c1tKDH+/RXXeJF2tgEkOjnFbUnwOunutFGn6nLqVhexSTTXcNrHGLfy4d7Aq8+Tz6+XQBCdTmVcmQAetB1OZesgHGfw65q14k+GY8I6T4+0+VFvr7Q7uwWHV40kjOyX7+cNjjv6Vu3nwN0TwlD4rbU9cvLy2020vIll/s/yXW4hltcTRR+diRCszj5uODQBzP9pT4z5gx9KT+0psZ8wY/wA/4H8q0NY/Z31HRtB8V6k2qbRoQuJEL2yCO6ihdFYqfM3L1bqOxplx4d0ez+Nlj4JfT1nsMxaK0wZhK0kseTd56ZDMWA/ujPSgCkNTmbpIDS/2lP8A3/0rmfD0bRXF7A0rSrG21W6gj1rcoAtf2lP/AH/0o/tKf+/+lVaKALX9pT/3/wBKP7Sn/v8A6VVooAtf2lP/AH/0o/tGfAO/g9OPp/iPzqrXQ/D/AEmx1zxdbWmorM9gYrqaZbdgrv5VvJKAGbIHMa/nVJXYGR/aU+7bvG70xz1x/Pij+0psqPMGW6e/Tp+Y/OvZYvhT4Pg8M6Dql5c6hbLqCWty/lmWSONZ2w0RfyFjBiEg6nqh9Ka3wl0zT5rfw/dPcT3sOqWNpq7wxKzB3hupnWLHXGIlOOhFSEY3djxz+0Z8kb+R14o/tKf+/wDp/n0Ne86D+z/pOpeJ5bW7t9QtbF/saRrFc+b5Pnb8kYh3HGFzuSPqK4v4ZfDPT/FGt+ILG8ivLySweKC3+zyeRv3M4Jd9kgXgjrQB50NRnbOHzjrx0/zg0f2lPjO/jp0+v+B/KvUrfwppVj4/+Gtlf2cd5aX0cK3MQVIt5M7rkkL6EH6VduvhLpFzcSxHT9Tsjc293ff2qzAWemGKWUJayjZySIh/38X1FTfWwHkH9pT7iPMGR2x7Z/lR/aM5Gd/GcdO/HH6j86+g5PhjpCeEdS0UaRrMFtZa7MRLMUNxqqwWjsPI+TbiRgoUA/MSMZrL0H4I6NrCwzyafq9tc30ELJpM0wWW0Ls6OryCLHOxGCt5akEHPNUB4h/aU/H7wc9Pej+0pz0fPGelepfCPwlb+KPCviTS7slA+pWatJCAZCAspZEPqxC8Drketamg/B/RtX+zXNxpmtWT3NqXGi3U5EsUgl2bnlELMEI6EjBoA8Z/tGfGd/H0o/tKf++Omenb1rutA+Htp/aHjA3lnqGqHRJFjj0mzdVurgNLs3BlWTgDqe1dhF8C9Lfwtql041SC8gjluojM/wB5Un27WCI0atjn/WbsdqOlwPFf7SnzjzBn/P8AhR/aU56Pn8K9z0f4J+G/EV7r8FrbapawWd/fadbzSTmYF7ZWPmbY4SqbieATzVXwz8N9BsfE3h+C90LVb61kuLMSX08yi0vhcW+8hRs7Nwcd6APFRqczZxIDjrS/2jPjO/jGen+fQ/lXtum/DnRW+HOlpcXF5p8+rS293JbmOV2jZrjyfIdxBtQIvPMnJqvD8JfCt9oOtaksmoWEcd1e2ttvMt08BhX5JHEUBBEjsTy8fyjNAHjX9pT/AN/9KP7QnO0B8ljheOp9BXovxT+G1l4P8P6df2UN4qvIsEkl3J98mLJ+QopU59N6e9dLffA/RYbvTvKi1A2zQzPJG86rPfMkHmiJEaIFXL8Db5ikd6APFv7QuP736e+P5kfnTRqUx6SA84/Gval+E/hextNMur211LzNV1HT7FNPF0iTaeboYbzCYvmwVB/Gue+EvwxsPGmsanBqiXc9rb3MdkktrI4wZGxvO2ORwAOpxxQB5sdUmUZMgAzjP5/4H8jS/wBpT/8APQdx+Qyf0Br3a7s7LwXpeuRrZtc39j4aS0gu/wB2rgtrEtsW+ZCC20jn3FaCfBrSPCsEl1FY6hetJZapp1zpyszPMVsXkzExhX59xwNvmIT3ouinBo+eP7SmwT5gwDg0v9oXHHz9TgcdT6fqK+gvCfwm0XTZrnU5bm/077RaW8Qsysk91py3ETmVTsgdmYYGMiPqKwI/h7oPibT9Lis7X+y7a50vTlk1C4IlV5JdQSFmBZQMgdaqzvYk8c/tGfn5+nXj16UHULgAEvgHGDj1OB/MV6tJ8MdLNvqGpDwz4iVrVTs0TzU8+5/e7BKH8rdgD2rQ1H4H6TZaH4hmgGpXF/aG5eOSVljWKJEVghITbI4Iw48xDnpUgeM/2lP/AH/0o/tKf+/+lVaKALX9pT/3/wBKP7Sn/v8A6VVooAtf2lP/AH/0o/tKf+/+lVaKALX9pT/3/wBKP7Sn/v8A6VVooAtf2lP/AH/0o/tKf+/+lVaKALX9pT/3/wBKP7Sn/v8A6VVooAtf2lP/AH/0o/tKf+/+lVaKALX9pT/3/wBKP7Sn/v8A6VVooAtf2lP/AH/0o/tKf+/+lVaKALX9pT/3/wBKP7Sn/v8A6VVooAtf2lP/AH/0o/tKf+/+lVaKALDX07qyl+PpVeiigAooooAKKKKACiiigAooooAKKKKACiiigAooooAKKKKACiiigAooooAKcsbSZ2qWx6DNNrT0pV2S8UAc5J4bSSWdlNxD5wIkWMlQVLZ2n1FC+GmjmilSe7SaJdkTq53Io+6oPYVuN4mtGvnsoori6ulziO3iLucdeAM8ZFVm8caZGzKxlUqcMChGPr+VAFP+y712kY6hqjNKoSTdcNllC7dpPp9KY2i3EkMMD3movFAQ0UbTHEePu7R0+XtzV7/hO9Kwp3yYbp8h54zSf8J3pXTfJn/cPrj+dAFWHSbq3FwItS1KFbolpwlw6+Zlt3zYHNC6XerJDINQ1TfCGEbG4bdGpHRcccrwc1oR+MdPmjmkjjuJI4VDSssJIQE4BY9gSQOai/4TrS+Tuk4BJ+Q9B1NAFVdPvdrhdT1MLMVaQNcud+OF3ZHOBV3xR9v8Za9qOraneXUl1fSPJMqkrHh2DMoX0Pyf98+1Pk8WWcKzGSC6QQ7fNLQsPL3DK7uOMggjPUUlv4y0+8mWGCO4nlY7VjjiLMT6ADvyKAM5tIuZLea3kvtReCYkvG1w5D5bcxb2buK2l1bU49Qtr8SEajb6d/ZkV6Y8zLCBtBLd5AvAaqX/AAnGmBQxMoUnaG2HBIGSPrgirq67G0auLO+KNAbpWFs2DCOsg4+6MH5ulAGLp+hrpe9YopCz95M1d8mT/nm35GtDSdbtNZjla1LEx9dw6Vex7CgDB8mT/nm35GjyZP8Anm35Gt7HsKMewoAwfJk/55t+Ro8mT/nm35Gt7HsKMewoAwfJk/55t+RpYlmikDoJY3UMA65U7SGXH4qxBrdx7CkbC9cD6/if6H8jQBjtNetEkDS3DwKAqxs7bF+bcMD2oae7bMrT3RcsHaTzG3M2Gw5P94K2K2Nw6fLnJH4jqPwqwLWSa3kuQqiKNkjLbxkk98UAYaahqaymVbu98xtuWEzA8f4dqZHPfRu7xS3ULyEGR4pChdh3Na+4FVI24YEg+uOv8jQcAkHAI6/nj+YNAGMGuZGjbfMzR42MS25fm3DB7Yp/2jUDHIjXN48b7vMjaRtr7m3Nn610i6TdyTWcMcDTzXgDQRwncxycBcDvkEYqtIhjlMTrskBwUYYIOcYx9SKAMVrnU32j7TesYzlN07fK23buHvSpealHIXF1eq527mWVsnb938q6EaPdNo76sLdTpqXAtWuMpw5GQhTOcEEHNVCyrjO0buR7/wCcigDCi+0w58pp1+dXO12XLD7rHHeplu9SSXzRc3nmYC7vNbPDbsfSujh0e8udLutRit2ksLN0imkLIAjPnB25yeh/I1T3rtJyuB1OaAMaKS8t5HeCS4hlf7zxO0ZPzbuSOtOa81Jo3jNzeeS3ytH5rYYFtzZ+tbBIXGdozyKTcM4+XOcUAZCXF/GrrHcXkQYln8uVhvY/ez7t3NJ9rv8AbEv2i6xEQY18xsRsq7QV+natjcv+z/n/APUamsbOXUbqO2t4WuLiRtiQxKWdm9AByTQBgm81Fv3ZubwxcHy/NOFKvuyP+Bc0Rz30fmKs90iPu8xVdtr7uGJHqRW8lnNJYveqsbWscnlszyxqwc8nEedxFQhlOCCpBAI+h6H8aAMa4mvbmNY53uJ4UOVjldnAbbtzTmutQby91xeO0ZJXMjZjYjZlT9K2Mjbn5cZxn/P1FIGU9Np6fr0oAxZpLyZt0kl1Id6ybjI2RIv3XHuvalhuLu13GGe4g8zG5oHZC2O5962dy4JyuAdpOe/p+hqSGB7q4ihQeZNM4RAxAHPT+YoA592uZt26S4bzAqPvdjuw+/B9t3zfWp/7Q1N9hN9fMyHO5pm+ViNuR9V4NdLq2gX+gl11GBbZkkeBo2uImdXX76kKc49DVeDTbm6hWWGLzgVkcGNgzBUxksB0AyPzFFkGpgreaisjOt1eB327n8xsthdvP07VEWvGVVaS4ZEChVZ22qobdgAehUEe5rb3LycrgdeenGf5A0bl55X/ACM/yBoAyGu9SeTebm837Sm/zWztLbsU3zr4RugmuQkhLSIZHIfd1z9e9bO5c4+XP+f8KNyhckqB65/z6GgDA8lznCMccnijyX6bGz9K6i1sZtQWZo1jYW6eY5kljQBc4yu8jJzxj1qKGJprWWZSPLj+/wDMM8nBx+JFAHOeRJ/zzb/vk0eRJ/zzb/vk1veYm3fuXb/eyMf54pwwxwNpOM/h6/qKAOf8iT/nm3/fJo8iT/nm3/fJroPwFH4CgDn/ACJP+ebf98mjyJP+ebf98mug/AUfgKAOf8iT/nm3/fJo8iT/AJ5t/wB8mug/AUfgKAOf8iT/AJ5t/wB8mjyJP+ebf98mug/AUfgKAOf8iT/nm3/fJo8iT/nm3/fJroPwFH4CgDn/ACJP+ebf98mjyJP+ebf98mug/AUfgKAOf8iT/nm3/fJo8iT/AJ5t/wB8mug/AUfgKAOf8iT/AJ5t/wB8mjyJP+ebf98mug/AUfgKAOf8iT/nm3/fJo8iT/nm3/fJroPwFH4CgDnjE6gkowA74ptbtyP9Gl+UfdrCoAKKKKACiiigAooooAKKKKACiiigAooooAKKKKACiiigAooooAKKKKAE3D1rU0k/JJVPbb/89Z/++B/8XVuzvLS3Rsy3B/7Zj/4ugCh4J8XWXhGTx8l3BbC4vbGRLR50lLNK06HapRhgbB1q1/wk3hO8uPB2lG10u0sVsbObU9UFpI08V4m/zQP7ynIqxJcaZK5doGd37tbx/wCNN36V/wA+3/kvH/jQBq6lrHw4mutZW2jsYFvNNiH2sK8skFysL71jRolVw8gXn5MAisHxhqngjVNH0HTdGtbfTkZrRZtRed2ntx5WyfzoxCPM+f5vvvU/naT/AM+p/wDAeP8Axo87Sf8An1P/AIDx/wCNAdTN8M3WjaX4T+IGlSatYyCZYl0yRklR53SZCWGB8oMY6HvW9Lqvw+ujpcqLpdjdJp1zFFa+RJLax3SwIIJpm2KzZctlTv6GqfnaT/z6n/wHj/xo8/SP+eH/AJLR/wCNAGx8QvFHh/xe/js2WqacTe3WnSWEhiljklEcSLKBx8g4712/jLSfD/gHx/4bkNhpGkeGrS/uop9RngZJGiCptjVRudtuDiUDB9a8yV9I3Ky25B/694/8aluNQ0+88vzle48vKqskSsAx78mgOpht4os0+Dc3hpJdJbULPU5ZNxt282aBo0AeOTZwQc8V188jf8NBaZq1rcRw+GPJt7xJWAMf9kLCgkiI6YCK429TI2OtYvnaT/z6n/wHj/xqT7Rpu3/VybApXHkp8qlt2Bz932oA5/wH5b3GotbgrbsytHuHOPQ11uapJfafCpVRIu/+5bxj+tS/2pa/9PH/AHwP/i6ALGaM1X/tS1/6eP8Avgf/ABdH9qWv/Tx/3wP/AIugCxmjNV/7Utf+nj/vgf8AxdH9qWv/AE8f98D/AOLoAsZroPh/rUPhvxhY6lLJHHHBDd4MkfmKGa0lWPK98OR+JFcv/alr/wBPH/fA/wDi6X+1rT/p4/74H/xdUnysD3j/AIWjodr4V0ieFrK4vEFr9qtZIGE5mVv38m3y/LxJ9eKpTeMPCtpq1lZadPajSNK1Wz+xSXFkzCWFILgySSLjJzK8f4CvE/7Us/8Anpcf9+x/8XR/alp/euP++B/8XUxGpcp9IaL448Fx+Lru8vNctXeYWa3U0tqWjniXf5yb1hDyE56sBXE/CrxNonh/xB4gN1f2dhZTyRiGWWJ2YxCRyypiNlUkEfKU2+9eS/2pZf8APS4/79j/AOLpf7WtP+nj/vgf/F0CPVofGmj6T428AapY3O230yKFLyRYtpXEzEnaOpAIP41v3njXw4be/Fxq9lf6Y6Xa32liwYzajdPI5juVlKdAGTk4b5eleE/2xZ/37j/v2P8A4uj+1LP/AJ6XH/fsf/F1PW4H0Ze/EXw02npDLrtldwf2o9xpUC6bxpMZt3jgLoU2sY2ZCcZ+7TND8f8Ahq3vpFvtb0+a9a3hTUtWTTWQ3zK7sdn7tt2FZB86DO2vnb+2LP8Av3H/AH7H/wAXR/alr/08f98D/wCLqgPUfhj4q0DQdJ1S31mRZY5tQtZI42gZ9wTzfnKD5cLkfXIrsNH8faFbatbvqGvabfaytn5VzraWDxLJ++3KI28tiCq8ZMfNfP39qWv/AE8f98D/AOLo/ta2/wCek/8A37H/AMXQHc9U8I+I9H0/WPFptNVh0e8vJFOmatdWYdViEm5wyKjbS68e1dRpvi7wgvgvU7S41eznM0E2Lc2DW++6M25ZEjRCqLt45NeB/wBqWf8Az0uP+/Y/+Lo/tiz/AL9x/wB+x/8AF1PSwH0Vo/xI8Natf+I5dX1qyjtp76+jW3msyqS2hV/s+3y4SWAz0ODWZo3xE0/R9Y8L3dv4ltLfSoZLUf2dHph860Cw7Z2MmOMtyMZrwj+1LL/npcf9+x/8XR/a1t/z0n/79j/4uqCJ7zZ+OvDlr4T0m0uL/Tr6aGWFbvzIpRI0y3O57mMCPbgx8ZJ3e1Ot/iboN9ouuveT6e9/Lc3hlW4t2QXcDr+4C+XGeV98V4J/all/z0uP+/Y/+Lo/ta2/56T/APfsf/F0E9T1n4qeJtG1zwzo0djfWl5dQlVEdrbGIRR+Wi4bcgZDuGdqvIvvXVXvjzwtNcaBI+p2bz28cywSQ2J8iwcwYSR0KZGH/wCWa+YtfPn9qWn964/74H/xdH9rWP8AeuP+/K//ABdBR9Bv8UdE0xbBbXU7SbUG1PTl1W9jsxtu4UV/PZVZPlzxzXIfDHxJpeh32qFNTtdAvmvYpob+4s/PVrNGfzIEIRijHcmCRztryz+1rT/p4/74H/xdJ/a1j/euP+/K/wDxdC90D6Th8QWPirX71/Dd4iam0VwY71dOefy/Mv8AeQQsbtlouM44FU/EXjnT9L8YazZ2WsQ6ctw+swTzRwttO/yvJ6DpwcY64NfPcGsW1u5eGS6hcjYzoiqT+Rpn9qWbMwLS7iR0hTLMe5JNSlZp9gPf7rx14X8zTnOoWM1st9bTaZatpx/4lUSRuHWQgfvMkjrXP6t4u0Vfixp2sJfQ3dvBa/vrloPMjaby3HQou8ZI+8leQf2paf3rj/vgf/F0f2pZ/wDPS4/79j/4uqA9wsfGHh/xFZ2J1fWLOy1N7fTpby5ktnCtJb3NwZQBHGcOUkj9mxTLj4p2mn2OowaXe2qIbfUXt1ayRyLl793hfLJ1ERA9MV4n/a1p/wBPH/fA/wDi6T+1LP8A56XH/fsf/F0Fdz6Ej+IfhJbfXZ0lsHu7p1mmjuYHC3aNZwoUG2PqJkdsNj71ZX/CxvD91f2MepPDeaRZx6SqQC2GAY0TzyR1bDAk+teH/wBrWXrcf98D/wCLpf7Ys/79x/37H/xdBMd0z3OHxtarcagG8ZaWfETwwra+IP7JPlxxrI7PEf3e8kqQM4pmp+NvCF54I8R2VlJaafaTS3L2mnRWBSZmdk8okFGXC4OGWRGHcV4f/all/wA9Lj/v2P8A4uj+1LP/AJ6XH/fsf/F0AWaTNV/7UtP71x/3wP8A4uj+1LX/AKeP++B/8XQBYzRmq/8Aalr/ANPH/fA/+Lo/tS1/6eP++B/8XQBYzRmq/wDalr/08f8AfA/+Lo/tS1/6eP8Avgf/ABdAFjNGar/2pa/9PH/fA/8Ai6P7Utf+nj/vgf8AxdAFjNGar/2pa/8ATx/3wP8A4uj+1LX/AKeP++B/8XQBYzRmq/8Aalr/ANPH/fA/+Lo/tS1/6eP++B/8XQBYzRmq/wDalr/08f8AfA/+Lo/tS1/6eP8Avgf/ABdAFjNGar/2pa/9PH/fA/8Ai6P7Utf+nj/vgf8AxdAFjNGar/2pa/8ATx/3wP8A4uj+1LX/AKeP++B/8XQBJdH/AEaT/dasDcPWtmTU7OSJkMtx93/nmP8A4us7bb/89Z/++B/8XQBX3D1o3D1qxtt/+es//fA/+Lo22/8Az1n/AO+B/wDF0AV9w9aNw9asbbf/AJ6z/wDfA/8Ai6Ntv/z1n/74H/xdAFfcPWjcPWrG23/56z/98D/4ujbb/wDPWf8A74H/AMXQBX3D1o3D1qxtt/8AnrP/AN8D/wCLo22//PWf/vgf/F0AV9w9aNw9asbbf/nrP/3wP/i6Ntv/AM9Z/wDvgf8AxdAFfcPWjcPWrG23/wCes/8A3wP/AIujbb/89Z/++B/8XQBX3D1o3D1qxtt/+es//fA/+Lo22/8Az1n/AO+B/wDF0AV9w9aNw9asbbf/AJ6z/wDfA/8Ai6Ntv/z1n/74H/xdAFfcPWjcPWrG23/56z/98D/4ujbb/wDPWf8A74H/AMXQBX3D1o3D1qxtt/8AnrP/AN8D/wCLo22//PWf/vgf/F0Af//Z)\n",
        "\n",
        "\n",
        "\n"
      ],
      "metadata": {
        "id": "ZdOofFvMT0P4"
      }
    }
  ]
}